{
 "cells": [
  {
   "cell_type": "code",
   "execution_count": 1,
   "id": "e83a6d66-0a05-4a2f-bb14-c884ae294b94",
   "metadata": {
    "tags": []
   },
   "outputs": [],
   "source": [
    "import pandas as pd\n",
    "import numpy as np\n",
    "import plotly.express as px"
   ]
  },
  {
   "cell_type": "code",
   "execution_count": 2,
   "id": "d707596c-77ef-47dc-b14c-52e884d73a1b",
   "metadata": {
    "tags": []
   },
   "outputs": [],
   "source": [
    "atl = pd.read_csv(\"team-data/Atlanta Dream (1).csv\")"
   ]
  },
  {
   "cell_type": "code",
   "execution_count": 3,
   "id": "e50f7dc2-7b8a-4eb6-989e-c17fbcf69697",
   "metadata": {
    "tags": []
   },
   "outputs": [
    {
     "data": {
      "text/html": [
       "<div>\n",
       "<style scoped>\n",
       "    .dataframe tbody tr th:only-of-type {\n",
       "        vertical-align: middle;\n",
       "    }\n",
       "\n",
       "    .dataframe tbody tr th {\n",
       "        vertical-align: top;\n",
       "    }\n",
       "\n",
       "    .dataframe thead th {\n",
       "        text-align: right;\n",
       "    }\n",
       "</style>\n",
       "<table border=\"1\" class=\"dataframe\">\n",
       "  <thead>\n",
       "    <tr style=\"text-align: right;\">\n",
       "      <th></th>\n",
       "      <th>PLAYER</th>\n",
       "      <th>2023 TYPE</th>\n",
       "      <th>2023</th>\n",
       "      <th>2024 TYPE</th>\n",
       "      <th>2024</th>\n",
       "      <th>2025 TYPE</th>\n",
       "      <th>2025</th>\n",
       "      <th>2026 TYPE</th>\n",
       "      <th>2026</th>\n",
       "      <th>2027 TYPE</th>\n",
       "      <th>2027</th>\n",
       "      <th>CORE YEARS</th>\n",
       "      <th>Unnamed: 12</th>\n",
       "    </tr>\n",
       "  </thead>\n",
       "  <tbody>\n",
       "    <tr>\n",
       "      <th>0</th>\n",
       "      <td>Cheyenne Parker</td>\n",
       "      <td>V</td>\n",
       "      <td>$216,100</td>\n",
       "      <td>V</td>\n",
       "      <td>$200,000</td>\n",
       "      <td>UFA</td>\n",
       "      <td>NaN</td>\n",
       "      <td>NaN</td>\n",
       "      <td>NaN</td>\n",
       "      <td>NaN</td>\n",
       "      <td>NaN</td>\n",
       "      <td>NaN</td>\n",
       "      <td>NaN</td>\n",
       "    </tr>\n",
       "    <tr>\n",
       "      <th>1</th>\n",
       "      <td>Allisha Gray</td>\n",
       "      <td>V</td>\n",
       "      <td>$194,600</td>\n",
       "      <td>V</td>\n",
       "      <td>$185,000</td>\n",
       "      <td>V</td>\n",
       "      <td>$190,000</td>\n",
       "      <td>UFA</td>\n",
       "      <td>NaN</td>\n",
       "      <td>NaN</td>\n",
       "      <td>NaN</td>\n",
       "      <td>NaN</td>\n",
       "      <td>NaN</td>\n",
       "    </tr>\n",
       "    <tr>\n",
       "      <th>2</th>\n",
       "      <td>Danielle Robinson</td>\n",
       "      <td>V</td>\n",
       "      <td>$155,000</td>\n",
       "      <td>UFA</td>\n",
       "      <td>NaN</td>\n",
       "      <td>NaN</td>\n",
       "      <td>NaN</td>\n",
       "      <td>NaN</td>\n",
       "      <td>NaN</td>\n",
       "      <td>NaN</td>\n",
       "      <td>NaN</td>\n",
       "      <td>NaN</td>\n",
       "      <td>NaN</td>\n",
       "    </tr>\n",
       "    <tr>\n",
       "      <th>3</th>\n",
       "      <td>Monique Billings</td>\n",
       "      <td>V</td>\n",
       "      <td>$145,000</td>\n",
       "      <td>UFA</td>\n",
       "      <td>NaN</td>\n",
       "      <td>NaN</td>\n",
       "      <td>NaN</td>\n",
       "      <td>NaN</td>\n",
       "      <td>NaN</td>\n",
       "      <td>NaN</td>\n",
       "      <td>NaN</td>\n",
       "      <td>NaN</td>\n",
       "      <td>NaN</td>\n",
       "    </tr>\n",
       "    <tr>\n",
       "      <th>4</th>\n",
       "      <td>Nia Coffey</td>\n",
       "      <td>V</td>\n",
       "      <td>$130,000</td>\n",
       "      <td>UFA</td>\n",
       "      <td>NaN</td>\n",
       "      <td>NaN</td>\n",
       "      <td>NaN</td>\n",
       "      <td>NaN</td>\n",
       "      <td>NaN</td>\n",
       "      <td>NaN</td>\n",
       "      <td>NaN</td>\n",
       "      <td>NaN</td>\n",
       "      <td>NaN</td>\n",
       "    </tr>\n",
       "  </tbody>\n",
       "</table>\n",
       "</div>"
      ],
      "text/plain": [
       "               PLAYER 2023 TYPE       2023 2024 TYPE       2024 2025 TYPE  \\\n",
       "0    Cheyenne Parker          V  $216,100          V  $200,000        UFA   \n",
       "1       Allisha Gray          V  $194,600          V  $185,000          V   \n",
       "2  Danielle Robinson          V  $155,000        UFA        NaN       NaN   \n",
       "3   Monique Billings          V  $145,000        UFA        NaN       NaN   \n",
       "4         Nia Coffey          V  $130,000        UFA        NaN       NaN   \n",
       "\n",
       "        2025 2026 TYPE 2026 2027 TYPE 2027  CORE YEARS  Unnamed: 12  \n",
       "0        NaN       NaN  NaN       NaN  NaN         NaN          NaN  \n",
       "1  $190,000        UFA  NaN       NaN  NaN         NaN          NaN  \n",
       "2        NaN       NaN  NaN       NaN  NaN         NaN          NaN  \n",
       "3        NaN       NaN  NaN       NaN  NaN         NaN          NaN  \n",
       "4        NaN       NaN  NaN       NaN  NaN         NaN          NaN  "
      ]
     },
     "execution_count": 3,
     "metadata": {},
     "output_type": "execute_result"
    }
   ],
   "source": [
    "atl.head()"
   ]
  },
  {
   "cell_type": "code",
   "execution_count": 4,
   "id": "e251e409-f585-477d-a64b-f074c3750bf3",
   "metadata": {
    "tags": []
   },
   "outputs": [],
   "source": [
    "ages1 = pd.read_html(\"player-data/WNBA Stats _ Players Bios1.html\", flavor = \"lxml\")\n",
    "ages2 = pd.read_html(\"player-data/WNBA Stats _ Players Bios2.html\", flavor = \"lxml\")\n",
    "ages3 = pd.read_html(\"player-data/WNBA Stats _ Players Bios3.html\", flavor = \"lxml\")\n",
    "ages4 = pd.read_html(\"player-data/WNBA Stats _ Players Bios4.html\", flavor = \"lxml\")"
   ]
  },
  {
   "cell_type": "code",
   "execution_count": 5,
   "id": "300a8112-6886-44d8-8cfe-4873b7aff535",
   "metadata": {},
   "outputs": [
    {
     "data": {
      "text/html": [
       "<div>\n",
       "<style scoped>\n",
       "    .dataframe tbody tr th:only-of-type {\n",
       "        vertical-align: middle;\n",
       "    }\n",
       "\n",
       "    .dataframe tbody tr th {\n",
       "        vertical-align: top;\n",
       "    }\n",
       "\n",
       "    .dataframe thead th {\n",
       "        text-align: right;\n",
       "    }\n",
       "</style>\n",
       "<table border=\"1\" class=\"dataframe\">\n",
       "  <thead>\n",
       "    <tr style=\"text-align: right;\">\n",
       "      <th></th>\n",
       "      <th>Player</th>\n",
       "      <th>Age</th>\n",
       "    </tr>\n",
       "  </thead>\n",
       "  <tbody>\n",
       "    <tr>\n",
       "      <th>0</th>\n",
       "      <td>A'ja Wilson</td>\n",
       "      <td>26</td>\n",
       "    </tr>\n",
       "    <tr>\n",
       "      <th>1</th>\n",
       "      <td>Aari McDonald</td>\n",
       "      <td>24</td>\n",
       "    </tr>\n",
       "    <tr>\n",
       "      <th>2</th>\n",
       "      <td>Aerial Powers</td>\n",
       "      <td>29</td>\n",
       "    </tr>\n",
       "    <tr>\n",
       "      <th>3</th>\n",
       "      <td>Aisha Sheppard</td>\n",
       "      <td>24</td>\n",
       "    </tr>\n",
       "    <tr>\n",
       "      <th>4</th>\n",
       "      <td>Alaina Coates</td>\n",
       "      <td>27</td>\n",
       "    </tr>\n",
       "    <tr>\n",
       "      <th>...</th>\n",
       "      <td>...</td>\n",
       "      <td>...</td>\n",
       "    </tr>\n",
       "    <tr>\n",
       "      <th>195</th>\n",
       "      <td>Kristine Anigwe</td>\n",
       "      <td>26</td>\n",
       "    </tr>\n",
       "    <tr>\n",
       "      <th>196</th>\n",
       "      <td>Kristy Wallace</td>\n",
       "      <td>27</td>\n",
       "    </tr>\n",
       "    <tr>\n",
       "      <th>197</th>\n",
       "      <td>Lexie Brown</td>\n",
       "      <td>28</td>\n",
       "    </tr>\n",
       "    <tr>\n",
       "      <th>198</th>\n",
       "      <td>Lexie Hull</td>\n",
       "      <td>23</td>\n",
       "    </tr>\n",
       "    <tr>\n",
       "      <th>199</th>\n",
       "      <td>Li Yueru</td>\n",
       "      <td>24</td>\n",
       "    </tr>\n",
       "  </tbody>\n",
       "</table>\n",
       "<p>200 rows × 2 columns</p>\n",
       "</div>"
      ],
      "text/plain": [
       "              Player  Age\n",
       "0        A'ja Wilson   26\n",
       "1      Aari McDonald   24\n",
       "2      Aerial Powers   29\n",
       "3     Aisha Sheppard   24\n",
       "4      Alaina Coates   27\n",
       "..               ...  ...\n",
       "195  Kristine Anigwe   26\n",
       "196   Kristy Wallace   27\n",
       "197      Lexie Brown   28\n",
       "198       Lexie Hull   23\n",
       "199         Li Yueru   24\n",
       "\n",
       "[200 rows x 2 columns]"
      ]
     },
     "execution_count": 5,
     "metadata": {},
     "output_type": "execute_result"
    }
   ],
   "source": [
    "ages = pd.concat([ages1[0], ages2[0], ages3[0], ages2[0]])\n",
    "ages = ages.reset_index()[[\"Player\", \"Age\"]]\n",
    "ages"
   ]
  },
  {
   "cell_type": "code",
   "execution_count": 6,
   "id": "9aeef739-d017-4c68-a432-2b6be09f45e5",
   "metadata": {},
   "outputs": [
    {
     "data": {
      "text/html": [
       "<div>\n",
       "<style scoped>\n",
       "    .dataframe tbody tr th:only-of-type {\n",
       "        vertical-align: middle;\n",
       "    }\n",
       "\n",
       "    .dataframe tbody tr th {\n",
       "        vertical-align: top;\n",
       "    }\n",
       "\n",
       "    .dataframe thead th {\n",
       "        text-align: right;\n",
       "    }\n",
       "</style>\n",
       "<table border=\"1\" class=\"dataframe\">\n",
       "  <thead>\n",
       "    <tr style=\"text-align: right;\">\n",
       "      <th></th>\n",
       "      <th>Unnamed: 0</th>\n",
       "      <th>PLAYER</th>\n",
       "      <th>2023 TYPE</th>\n",
       "      <th>2023</th>\n",
       "      <th>2024 TYPE</th>\n",
       "      <th>2024</th>\n",
       "      <th>2025 TYPE</th>\n",
       "      <th>2025</th>\n",
       "      <th>2026 TYPE</th>\n",
       "      <th>2026</th>\n",
       "      <th>2027 TYPE</th>\n",
       "      <th>2027</th>\n",
       "      <th>CORE YEARS</th>\n",
       "      <th>TEAM</th>\n",
       "    </tr>\n",
       "  </thead>\n",
       "  <tbody>\n",
       "    <tr>\n",
       "      <th>81</th>\n",
       "      <td>0</td>\n",
       "      <td>A'ja Wilson</td>\n",
       "      <td>V</td>\n",
       "      <td>$202,154</td>\n",
       "      <td>UFA</td>\n",
       "      <td>0</td>\n",
       "      <td>0</td>\n",
       "      <td>0</td>\n",
       "      <td>0</td>\n",
       "      <td>0</td>\n",
       "      <td>0</td>\n",
       "      <td>0</td>\n",
       "      <td>0</td>\n",
       "      <td>Las Vegas Aces</td>\n",
       "    </tr>\n",
       "    <tr>\n",
       "      <th>5</th>\n",
       "      <td>5</td>\n",
       "      <td>Aari McDonald</td>\n",
       "      <td>U</td>\n",
       "      <td>$78,586</td>\n",
       "      <td>R</td>\n",
       "      <td>$89,302</td>\n",
       "      <td>RFA</td>\n",
       "      <td>0</td>\n",
       "      <td>0</td>\n",
       "      <td>0</td>\n",
       "      <td>0</td>\n",
       "      <td>0</td>\n",
       "      <td>0.0</td>\n",
       "      <td>Atlanta Dream</td>\n",
       "    </tr>\n",
       "    <tr>\n",
       "      <th>114</th>\n",
       "      <td>2</td>\n",
       "      <td>Aerial Powers</td>\n",
       "      <td>V</td>\n",
       "      <td>$201,984</td>\n",
       "      <td>UFA</td>\n",
       "      <td>0</td>\n",
       "      <td>0</td>\n",
       "      <td>0</td>\n",
       "      <td>0</td>\n",
       "      <td>0</td>\n",
       "      <td>0</td>\n",
       "      <td>0</td>\n",
       "      <td>0</td>\n",
       "      <td>Minnesota Lynx</td>\n",
       "    </tr>\n",
       "    <tr>\n",
       "      <th>92</th>\n",
       "      <td>11</td>\n",
       "      <td>Aisha Sheppard</td>\n",
       "      <td>U</td>\n",
       "      <td>$64,657</td>\n",
       "      <td>U</td>\n",
       "      <td>$71,124</td>\n",
       "      <td>OPT</td>\n",
       "      <td>$80,823</td>\n",
       "      <td>RFA</td>\n",
       "      <td>0</td>\n",
       "      <td>0</td>\n",
       "      <td>0</td>\n",
       "      <td>0</td>\n",
       "      <td>Las Vegas Aces</td>\n",
       "    </tr>\n",
       "    <tr>\n",
       "      <th>22</th>\n",
       "      <td>7</td>\n",
       "      <td>Alanna Smith</td>\n",
       "      <td>U</td>\n",
       "      <td>$100,000</td>\n",
       "      <td>UFA</td>\n",
       "      <td>0</td>\n",
       "      <td>0</td>\n",
       "      <td>0</td>\n",
       "      <td>0</td>\n",
       "      <td>0</td>\n",
       "      <td>0</td>\n",
       "      <td>0</td>\n",
       "      <td>0</td>\n",
       "      <td>Chicago Sky</td>\n",
       "    </tr>\n",
       "    <tr>\n",
       "      <th>...</th>\n",
       "      <td>...</td>\n",
       "      <td>...</td>\n",
       "      <td>...</td>\n",
       "      <td>...</td>\n",
       "      <td>...</td>\n",
       "      <td>...</td>\n",
       "      <td>...</td>\n",
       "      <td>...</td>\n",
       "      <td>...</td>\n",
       "      <td>...</td>\n",
       "      <td>...</td>\n",
       "      <td>...</td>\n",
       "      <td>...</td>\n",
       "      <td>...</td>\n",
       "    </tr>\n",
       "    <tr>\n",
       "      <th>60</th>\n",
       "      <td>9</td>\n",
       "      <td>Veronica Burton</td>\n",
       "      <td>U</td>\n",
       "      <td>$70,609</td>\n",
       "      <td>U</td>\n",
       "      <td>$77,669</td>\n",
       "      <td>OPT</td>\n",
       "      <td>$88,261</td>\n",
       "      <td>RFA</td>\n",
       "      <td>0</td>\n",
       "      <td>0</td>\n",
       "      <td>0</td>\n",
       "      <td>0</td>\n",
       "      <td>Dallas Wings</td>\n",
       "    </tr>\n",
       "    <tr>\n",
       "      <th>48</th>\n",
       "      <td>14</td>\n",
       "      <td>Victoria Macaulay</td>\n",
       "      <td>TC</td>\n",
       "      <td>$62,285</td>\n",
       "      <td>Reserved</td>\n",
       "      <td>0</td>\n",
       "      <td>0</td>\n",
       "      <td>0</td>\n",
       "      <td>0</td>\n",
       "      <td>0</td>\n",
       "      <td>0</td>\n",
       "      <td>0</td>\n",
       "      <td>0</td>\n",
       "      <td>Connecticut Sun</td>\n",
       "    </tr>\n",
       "    <tr>\n",
       "      <th>66</th>\n",
       "      <td>2</td>\n",
       "      <td>Victoria Vivians</td>\n",
       "      <td>V</td>\n",
       "      <td>$135,000</td>\n",
       "      <td>V</td>\n",
       "      <td>$137,000</td>\n",
       "      <td>UFA</td>\n",
       "      <td>0</td>\n",
       "      <td>0</td>\n",
       "      <td>0</td>\n",
       "      <td>0</td>\n",
       "      <td>0</td>\n",
       "      <td>0.0</td>\n",
       "      <td>Indiana Fever</td>\n",
       "    </tr>\n",
       "    <tr>\n",
       "      <th>107</th>\n",
       "      <td>12</td>\n",
       "      <td>Yang Liwei</td>\n",
       "      <td>TC</td>\n",
       "      <td>$62,285</td>\n",
       "      <td>U</td>\n",
       "      <td>$64,154</td>\n",
       "      <td>Reserved</td>\n",
       "      <td>0</td>\n",
       "      <td>0</td>\n",
       "      <td>0</td>\n",
       "      <td>0</td>\n",
       "      <td>0</td>\n",
       "      <td>0</td>\n",
       "      <td>Los Angeles Sparks</td>\n",
       "    </tr>\n",
       "    <tr>\n",
       "      <th>165</th>\n",
       "      <td>6</td>\n",
       "      <td>Yvonne Turner</td>\n",
       "      <td>TC</td>\n",
       "      <td>$74,305</td>\n",
       "      <td>UFA</td>\n",
       "      <td>0</td>\n",
       "      <td>0</td>\n",
       "      <td>0</td>\n",
       "      <td>0</td>\n",
       "      <td>0</td>\n",
       "      <td>0</td>\n",
       "      <td>0</td>\n",
       "      <td>0</td>\n",
       "      <td>Seattle Storm</td>\n",
       "    </tr>\n",
       "  </tbody>\n",
       "</table>\n",
       "<p>193 rows × 14 columns</p>\n",
       "</div>"
      ],
      "text/plain": [
       "     Unnamed: 0             PLAYER 2023 TYPE       2023 2024 TYPE       2024  \\\n",
       "81            0       A'ja Wilson          V  $202,154        UFA          0   \n",
       "5             5     Aari McDonald          U   $78,586          R   $89,302    \n",
       "114           2     Aerial Powers          V  $201,984        UFA          0   \n",
       "92           11     Aisha Sheppard         U   $64,657          U   $71,124    \n",
       "22            7      Alanna Smith          U  $100,000        UFA          0   \n",
       "..          ...                ...       ...        ...       ...        ...   \n",
       "60            9    Veronica Burton         U   $70,609          U   $77,669    \n",
       "48           14  Victoria Macaulay        TC   $62,285   Reserved          0   \n",
       "66            2  Victoria Vivians          V  $135,000          V  $137,000    \n",
       "107          12         Yang Liwei        TC   $62,285          U   $64,154    \n",
       "165           6      Yvonne Turner        TC   $74,305        UFA          0   \n",
       "\n",
       "    2025 TYPE      2025 2026 TYPE 2026 2027 TYPE  2027 CORE YEARS  \\\n",
       "81          0         0         0    0         0     0          0   \n",
       "5         RFA         0         0    0         0     0        0.0   \n",
       "114         0         0         0    0         0     0          0   \n",
       "92        OPT  $80,823        RFA    0         0     0          0   \n",
       "22          0         0         0    0         0     0          0   \n",
       "..        ...       ...       ...  ...       ...   ...        ...   \n",
       "60        OPT  $88,261        RFA    0         0     0          0   \n",
       "48          0         0         0    0         0     0          0   \n",
       "66        UFA         0         0    0         0     0        0.0   \n",
       "107  Reserved         0         0    0         0     0          0   \n",
       "165         0         0         0    0         0     0          0   \n",
       "\n",
       "                   TEAM  \n",
       "81       Las Vegas Aces  \n",
       "5         Atlanta Dream  \n",
       "114      Minnesota Lynx  \n",
       "92       Las Vegas Aces  \n",
       "22          Chicago Sky  \n",
       "..                  ...  \n",
       "60         Dallas Wings  \n",
       "48      Connecticut Sun  \n",
       "66        Indiana Fever  \n",
       "107  Los Angeles Sparks  \n",
       "165       Seattle Storm  \n",
       "\n",
       "[193 rows x 14 columns]"
      ]
     },
     "execution_count": 6,
     "metadata": {},
     "output_type": "execute_result"
    }
   ],
   "source": [
    "all_players = pd.read_csv(\"all_players.csv\")\n",
    "all_players.sort_values(by = \"PLAYER\")"
   ]
  },
  {
   "cell_type": "code",
   "execution_count": 7,
   "id": "507c6ce1-8ee9-48d7-9a7f-60d77c700072",
   "metadata": {
    "tags": []
   },
   "outputs": [],
   "source": [
    "ages[\"Player\"] = ages[\"Player\"].astype(str)\n",
    "all_players[\"PLAYER\"] = all_players[\"PLAYER\"].astype(str)\n",
    "all_players[\"PLAYER\"] = all_players[\"PLAYER\"].str.split().str.join(' ')\n",
    "merged = pd.merge(left = ages, right = all_players, left_on = \"Player\", right_on = \"PLAYER\").drop([\"Unnamed: 0\", \"PLAYER\"], axis = 1)"
   ]
  },
  {
   "cell_type": "code",
   "execution_count": 8,
   "id": "234dd9b4-51f6-43ae-9a77-077904743275",
   "metadata": {
    "tags": []
   },
   "outputs": [
    {
     "data": {
      "text/html": [
       "<div>\n",
       "<style scoped>\n",
       "    .dataframe tbody tr th:only-of-type {\n",
       "        vertical-align: middle;\n",
       "    }\n",
       "\n",
       "    .dataframe tbody tr th {\n",
       "        vertical-align: top;\n",
       "    }\n",
       "\n",
       "    .dataframe thead th {\n",
       "        text-align: right;\n",
       "    }\n",
       "</style>\n",
       "<table border=\"1\" class=\"dataframe\">\n",
       "  <thead>\n",
       "    <tr style=\"text-align: right;\">\n",
       "      <th></th>\n",
       "      <th>Player</th>\n",
       "      <th>Age</th>\n",
       "      <th>2023 TYPE</th>\n",
       "      <th>2023</th>\n",
       "      <th>2024 TYPE</th>\n",
       "      <th>2024</th>\n",
       "      <th>2025 TYPE</th>\n",
       "      <th>2025</th>\n",
       "      <th>2026 TYPE</th>\n",
       "      <th>2026</th>\n",
       "      <th>2027 TYPE</th>\n",
       "      <th>2027</th>\n",
       "      <th>CORE YEARS</th>\n",
       "      <th>TEAM</th>\n",
       "    </tr>\n",
       "  </thead>\n",
       "  <tbody>\n",
       "    <tr>\n",
       "      <th>0</th>\n",
       "      <td>A'ja Wilson</td>\n",
       "      <td>26</td>\n",
       "      <td>V</td>\n",
       "      <td>$202,154</td>\n",
       "      <td>UFA</td>\n",
       "      <td>0</td>\n",
       "      <td>0</td>\n",
       "      <td>0</td>\n",
       "      <td>0</td>\n",
       "      <td>0</td>\n",
       "      <td>0</td>\n",
       "      <td>0</td>\n",
       "      <td>0</td>\n",
       "      <td>Las Vegas Aces</td>\n",
       "    </tr>\n",
       "    <tr>\n",
       "      <th>1</th>\n",
       "      <td>Aari McDonald</td>\n",
       "      <td>24</td>\n",
       "      <td>U</td>\n",
       "      <td>$78,586</td>\n",
       "      <td>R</td>\n",
       "      <td>$89,302</td>\n",
       "      <td>RFA</td>\n",
       "      <td>0</td>\n",
       "      <td>0</td>\n",
       "      <td>0</td>\n",
       "      <td>0</td>\n",
       "      <td>0</td>\n",
       "      <td>0.0</td>\n",
       "      <td>Atlanta Dream</td>\n",
       "    </tr>\n",
       "    <tr>\n",
       "      <th>2</th>\n",
       "      <td>Aerial Powers</td>\n",
       "      <td>29</td>\n",
       "      <td>V</td>\n",
       "      <td>$201,984</td>\n",
       "      <td>UFA</td>\n",
       "      <td>0</td>\n",
       "      <td>0</td>\n",
       "      <td>0</td>\n",
       "      <td>0</td>\n",
       "      <td>0</td>\n",
       "      <td>0</td>\n",
       "      <td>0</td>\n",
       "      <td>0</td>\n",
       "      <td>Minnesota Lynx</td>\n",
       "    </tr>\n",
       "    <tr>\n",
       "      <th>3</th>\n",
       "      <td>Aisha Sheppard</td>\n",
       "      <td>24</td>\n",
       "      <td>U</td>\n",
       "      <td>$64,657</td>\n",
       "      <td>U</td>\n",
       "      <td>$71,124</td>\n",
       "      <td>OPT</td>\n",
       "      <td>$80,823</td>\n",
       "      <td>RFA</td>\n",
       "      <td>0</td>\n",
       "      <td>0</td>\n",
       "      <td>0</td>\n",
       "      <td>0</td>\n",
       "      <td>Las Vegas Aces</td>\n",
       "    </tr>\n",
       "    <tr>\n",
       "      <th>4</th>\n",
       "      <td>Alanna Smith</td>\n",
       "      <td>26</td>\n",
       "      <td>U</td>\n",
       "      <td>$100,000</td>\n",
       "      <td>UFA</td>\n",
       "      <td>0</td>\n",
       "      <td>0</td>\n",
       "      <td>0</td>\n",
       "      <td>0</td>\n",
       "      <td>0</td>\n",
       "      <td>0</td>\n",
       "      <td>0</td>\n",
       "      <td>0</td>\n",
       "      <td>Chicago Sky</td>\n",
       "    </tr>\n",
       "    <tr>\n",
       "      <th>...</th>\n",
       "      <td>...</td>\n",
       "      <td>...</td>\n",
       "      <td>...</td>\n",
       "      <td>...</td>\n",
       "      <td>...</td>\n",
       "      <td>...</td>\n",
       "      <td>...</td>\n",
       "      <td>...</td>\n",
       "      <td>...</td>\n",
       "      <td>...</td>\n",
       "      <td>...</td>\n",
       "      <td>...</td>\n",
       "      <td>...</td>\n",
       "      <td>...</td>\n",
       "    </tr>\n",
       "    <tr>\n",
       "      <th>176</th>\n",
       "      <td>Shey Peddy</td>\n",
       "      <td>34</td>\n",
       "      <td>TC</td>\n",
       "      <td>$74,305</td>\n",
       "      <td>UFA</td>\n",
       "      <td>0</td>\n",
       "      <td>0</td>\n",
       "      <td>0</td>\n",
       "      <td>0</td>\n",
       "      <td>0</td>\n",
       "      <td>0</td>\n",
       "      <td>0</td>\n",
       "      <td>0</td>\n",
       "      <td>Phoenix Mercury</td>\n",
       "    </tr>\n",
       "    <tr>\n",
       "      <th>177</th>\n",
       "      <td>Skylar Diggins-Smith</td>\n",
       "      <td>32</td>\n",
       "      <td>V</td>\n",
       "      <td>$234,350</td>\n",
       "      <td>UFA</td>\n",
       "      <td>0</td>\n",
       "      <td>0</td>\n",
       "      <td>0</td>\n",
       "      <td>0</td>\n",
       "      <td>0</td>\n",
       "      <td>0</td>\n",
       "      <td>0</td>\n",
       "      <td>2020, 2021, 2022, 2023</td>\n",
       "      <td>Phoenix Mercury</td>\n",
       "    </tr>\n",
       "    <tr>\n",
       "      <th>178</th>\n",
       "      <td>Sophie Cunningham</td>\n",
       "      <td>26</td>\n",
       "      <td>V</td>\n",
       "      <td>$150,000</td>\n",
       "      <td>V</td>\n",
       "      <td>$154,500</td>\n",
       "      <td>UFA</td>\n",
       "      <td>0</td>\n",
       "      <td>0</td>\n",
       "      <td>0</td>\n",
       "      <td>0</td>\n",
       "      <td>0</td>\n",
       "      <td>0</td>\n",
       "      <td>Phoenix Mercury</td>\n",
       "    </tr>\n",
       "    <tr>\n",
       "      <th>179</th>\n",
       "      <td>Stefanie Dolson</td>\n",
       "      <td>31</td>\n",
       "      <td>V</td>\n",
       "      <td>$160,000</td>\n",
       "      <td>UFA</td>\n",
       "      <td>0</td>\n",
       "      <td>0</td>\n",
       "      <td>0</td>\n",
       "      <td>0</td>\n",
       "      <td>0</td>\n",
       "      <td>0</td>\n",
       "      <td>0</td>\n",
       "      <td>0</td>\n",
       "      <td>New York Liberty</td>\n",
       "    </tr>\n",
       "    <tr>\n",
       "      <th>180</th>\n",
       "      <td>Stephanie Jones</td>\n",
       "      <td>24</td>\n",
       "      <td>TC</td>\n",
       "      <td>$62,285</td>\n",
       "      <td>Reserved</td>\n",
       "      <td>0</td>\n",
       "      <td>0</td>\n",
       "      <td>0</td>\n",
       "      <td>0</td>\n",
       "      <td>0</td>\n",
       "      <td>0</td>\n",
       "      <td>0</td>\n",
       "      <td>0.0</td>\n",
       "      <td>Washington Mystics</td>\n",
       "    </tr>\n",
       "  </tbody>\n",
       "</table>\n",
       "<p>181 rows × 14 columns</p>\n",
       "</div>"
      ],
      "text/plain": [
       "                   Player  Age 2023 TYPE       2023 2024 TYPE       2024  \\\n",
       "0             A'ja Wilson   26         V  $202,154        UFA          0   \n",
       "1           Aari McDonald   24         U   $78,586          R   $89,302    \n",
       "2           Aerial Powers   29         V  $201,984        UFA          0   \n",
       "3          Aisha Sheppard   24         U   $64,657          U   $71,124    \n",
       "4            Alanna Smith   26         U  $100,000        UFA          0   \n",
       "..                    ...  ...       ...        ...       ...        ...   \n",
       "176            Shey Peddy   34        TC   $74,305        UFA          0   \n",
       "177  Skylar Diggins-Smith   32         V  $234,350        UFA          0   \n",
       "178     Sophie Cunningham   26         V  $150,000          V  $154,500    \n",
       "179       Stefanie Dolson   31         V  $160,000        UFA          0   \n",
       "180       Stephanie Jones   24        TC   $62,285   Reserved          0   \n",
       "\n",
       "    2025 TYPE      2025 2026 TYPE 2026 2027 TYPE  2027  \\\n",
       "0           0         0         0    0         0     0   \n",
       "1         RFA         0         0    0         0     0   \n",
       "2           0         0         0    0         0     0   \n",
       "3         OPT  $80,823        RFA    0         0     0   \n",
       "4           0         0         0    0         0     0   \n",
       "..        ...       ...       ...  ...       ...   ...   \n",
       "176         0         0         0    0         0     0   \n",
       "177         0         0         0    0         0     0   \n",
       "178       UFA         0         0    0         0     0   \n",
       "179         0         0         0    0         0     0   \n",
       "180         0         0         0    0         0     0   \n",
       "\n",
       "                 CORE YEARS                TEAM  \n",
       "0                         0      Las Vegas Aces  \n",
       "1                       0.0       Atlanta Dream  \n",
       "2                         0      Minnesota Lynx  \n",
       "3                         0      Las Vegas Aces  \n",
       "4                         0         Chicago Sky  \n",
       "..                      ...                 ...  \n",
       "176                       0     Phoenix Mercury  \n",
       "177  2020, 2021, 2022, 2023     Phoenix Mercury  \n",
       "178                       0     Phoenix Mercury  \n",
       "179                       0    New York Liberty  \n",
       "180                     0.0  Washington Mystics  \n",
       "\n",
       "[181 rows x 14 columns]"
      ]
     },
     "execution_count": 8,
     "metadata": {},
     "output_type": "execute_result"
    }
   ],
   "source": [
    "merged"
   ]
  },
  {
   "cell_type": "code",
   "execution_count": 9,
   "id": "50d09187-01ec-4cda-a48a-e932c5761c89",
   "metadata": {},
   "outputs": [],
   "source": [
    "for year in range(2023, 2026):\n",
    "    merged[str(year)] = merged[str(year)].str.replace(\",\", \"\").str.extract('\\$(.*)').astype(float)\n"
   ]
  },
  {
   "cell_type": "code",
   "execution_count": 10,
   "id": "c81a961c-d032-457e-bdc0-b37ec9a4c94a",
   "metadata": {},
   "outputs": [
    {
     "data": {
      "text/html": [
       "<div>\n",
       "<style scoped>\n",
       "    .dataframe tbody tr th:only-of-type {\n",
       "        vertical-align: middle;\n",
       "    }\n",
       "\n",
       "    .dataframe tbody tr th {\n",
       "        vertical-align: top;\n",
       "    }\n",
       "\n",
       "    .dataframe thead th {\n",
       "        text-align: right;\n",
       "    }\n",
       "</style>\n",
       "<table border=\"1\" class=\"dataframe\">\n",
       "  <thead>\n",
       "    <tr style=\"text-align: right;\">\n",
       "      <th></th>\n",
       "      <th>Player</th>\n",
       "      <th>Age</th>\n",
       "      <th>2023 TYPE</th>\n",
       "      <th>2023</th>\n",
       "      <th>2024 TYPE</th>\n",
       "      <th>2024</th>\n",
       "      <th>2025 TYPE</th>\n",
       "      <th>2025</th>\n",
       "      <th>2026 TYPE</th>\n",
       "      <th>2026</th>\n",
       "      <th>2027 TYPE</th>\n",
       "      <th>2027</th>\n",
       "      <th>CORE YEARS</th>\n",
       "      <th>TEAM</th>\n",
       "    </tr>\n",
       "  </thead>\n",
       "  <tbody>\n",
       "    <tr>\n",
       "      <th>0</th>\n",
       "      <td>A'ja Wilson</td>\n",
       "      <td>26</td>\n",
       "      <td>V</td>\n",
       "      <td>202154.0</td>\n",
       "      <td>UFA</td>\n",
       "      <td>NaN</td>\n",
       "      <td>0</td>\n",
       "      <td>NaN</td>\n",
       "      <td>0</td>\n",
       "      <td>0</td>\n",
       "      <td>0</td>\n",
       "      <td>0</td>\n",
       "      <td>0</td>\n",
       "      <td>Las Vegas Aces</td>\n",
       "    </tr>\n",
       "    <tr>\n",
       "      <th>1</th>\n",
       "      <td>Aari McDonald</td>\n",
       "      <td>24</td>\n",
       "      <td>U</td>\n",
       "      <td>78586.0</td>\n",
       "      <td>R</td>\n",
       "      <td>89302.0</td>\n",
       "      <td>RFA</td>\n",
       "      <td>NaN</td>\n",
       "      <td>0</td>\n",
       "      <td>0</td>\n",
       "      <td>0</td>\n",
       "      <td>0</td>\n",
       "      <td>0.0</td>\n",
       "      <td>Atlanta Dream</td>\n",
       "    </tr>\n",
       "    <tr>\n",
       "      <th>2</th>\n",
       "      <td>Aerial Powers</td>\n",
       "      <td>29</td>\n",
       "      <td>V</td>\n",
       "      <td>201984.0</td>\n",
       "      <td>UFA</td>\n",
       "      <td>NaN</td>\n",
       "      <td>0</td>\n",
       "      <td>NaN</td>\n",
       "      <td>0</td>\n",
       "      <td>0</td>\n",
       "      <td>0</td>\n",
       "      <td>0</td>\n",
       "      <td>0</td>\n",
       "      <td>Minnesota Lynx</td>\n",
       "    </tr>\n",
       "    <tr>\n",
       "      <th>3</th>\n",
       "      <td>Aisha Sheppard</td>\n",
       "      <td>24</td>\n",
       "      <td>U</td>\n",
       "      <td>64657.0</td>\n",
       "      <td>U</td>\n",
       "      <td>71124.0</td>\n",
       "      <td>OPT</td>\n",
       "      <td>80823.0</td>\n",
       "      <td>RFA</td>\n",
       "      <td>0</td>\n",
       "      <td>0</td>\n",
       "      <td>0</td>\n",
       "      <td>0</td>\n",
       "      <td>Las Vegas Aces</td>\n",
       "    </tr>\n",
       "    <tr>\n",
       "      <th>4</th>\n",
       "      <td>Alanna Smith</td>\n",
       "      <td>26</td>\n",
       "      <td>U</td>\n",
       "      <td>100000.0</td>\n",
       "      <td>UFA</td>\n",
       "      <td>NaN</td>\n",
       "      <td>0</td>\n",
       "      <td>NaN</td>\n",
       "      <td>0</td>\n",
       "      <td>0</td>\n",
       "      <td>0</td>\n",
       "      <td>0</td>\n",
       "      <td>0</td>\n",
       "      <td>Chicago Sky</td>\n",
       "    </tr>\n",
       "    <tr>\n",
       "      <th>...</th>\n",
       "      <td>...</td>\n",
       "      <td>...</td>\n",
       "      <td>...</td>\n",
       "      <td>...</td>\n",
       "      <td>...</td>\n",
       "      <td>...</td>\n",
       "      <td>...</td>\n",
       "      <td>...</td>\n",
       "      <td>...</td>\n",
       "      <td>...</td>\n",
       "      <td>...</td>\n",
       "      <td>...</td>\n",
       "      <td>...</td>\n",
       "      <td>...</td>\n",
       "    </tr>\n",
       "    <tr>\n",
       "      <th>176</th>\n",
       "      <td>Shey Peddy</td>\n",
       "      <td>34</td>\n",
       "      <td>TC</td>\n",
       "      <td>74305.0</td>\n",
       "      <td>UFA</td>\n",
       "      <td>NaN</td>\n",
       "      <td>0</td>\n",
       "      <td>NaN</td>\n",
       "      <td>0</td>\n",
       "      <td>0</td>\n",
       "      <td>0</td>\n",
       "      <td>0</td>\n",
       "      <td>0</td>\n",
       "      <td>Phoenix Mercury</td>\n",
       "    </tr>\n",
       "    <tr>\n",
       "      <th>177</th>\n",
       "      <td>Skylar Diggins-Smith</td>\n",
       "      <td>32</td>\n",
       "      <td>V</td>\n",
       "      <td>234350.0</td>\n",
       "      <td>UFA</td>\n",
       "      <td>NaN</td>\n",
       "      <td>0</td>\n",
       "      <td>NaN</td>\n",
       "      <td>0</td>\n",
       "      <td>0</td>\n",
       "      <td>0</td>\n",
       "      <td>0</td>\n",
       "      <td>2020, 2021, 2022, 2023</td>\n",
       "      <td>Phoenix Mercury</td>\n",
       "    </tr>\n",
       "    <tr>\n",
       "      <th>178</th>\n",
       "      <td>Sophie Cunningham</td>\n",
       "      <td>26</td>\n",
       "      <td>V</td>\n",
       "      <td>150000.0</td>\n",
       "      <td>V</td>\n",
       "      <td>154500.0</td>\n",
       "      <td>UFA</td>\n",
       "      <td>NaN</td>\n",
       "      <td>0</td>\n",
       "      <td>0</td>\n",
       "      <td>0</td>\n",
       "      <td>0</td>\n",
       "      <td>0</td>\n",
       "      <td>Phoenix Mercury</td>\n",
       "    </tr>\n",
       "    <tr>\n",
       "      <th>179</th>\n",
       "      <td>Stefanie Dolson</td>\n",
       "      <td>31</td>\n",
       "      <td>V</td>\n",
       "      <td>160000.0</td>\n",
       "      <td>UFA</td>\n",
       "      <td>NaN</td>\n",
       "      <td>0</td>\n",
       "      <td>NaN</td>\n",
       "      <td>0</td>\n",
       "      <td>0</td>\n",
       "      <td>0</td>\n",
       "      <td>0</td>\n",
       "      <td>0</td>\n",
       "      <td>New York Liberty</td>\n",
       "    </tr>\n",
       "    <tr>\n",
       "      <th>180</th>\n",
       "      <td>Stephanie Jones</td>\n",
       "      <td>24</td>\n",
       "      <td>TC</td>\n",
       "      <td>62285.0</td>\n",
       "      <td>Reserved</td>\n",
       "      <td>NaN</td>\n",
       "      <td>0</td>\n",
       "      <td>NaN</td>\n",
       "      <td>0</td>\n",
       "      <td>0</td>\n",
       "      <td>0</td>\n",
       "      <td>0</td>\n",
       "      <td>0.0</td>\n",
       "      <td>Washington Mystics</td>\n",
       "    </tr>\n",
       "  </tbody>\n",
       "</table>\n",
       "<p>181 rows × 14 columns</p>\n",
       "</div>"
      ],
      "text/plain": [
       "                   Player  Age 2023 TYPE      2023 2024 TYPE      2024  \\\n",
       "0             A'ja Wilson   26         V  202154.0       UFA       NaN   \n",
       "1           Aari McDonald   24         U   78586.0         R   89302.0   \n",
       "2           Aerial Powers   29         V  201984.0       UFA       NaN   \n",
       "3          Aisha Sheppard   24         U   64657.0         U   71124.0   \n",
       "4            Alanna Smith   26         U  100000.0       UFA       NaN   \n",
       "..                    ...  ...       ...       ...       ...       ...   \n",
       "176            Shey Peddy   34        TC   74305.0       UFA       NaN   \n",
       "177  Skylar Diggins-Smith   32         V  234350.0       UFA       NaN   \n",
       "178     Sophie Cunningham   26         V  150000.0         V  154500.0   \n",
       "179       Stefanie Dolson   31         V  160000.0       UFA       NaN   \n",
       "180       Stephanie Jones   24        TC   62285.0  Reserved       NaN   \n",
       "\n",
       "    2025 TYPE     2025 2026 TYPE 2026 2027 TYPE  2027              CORE YEARS  \\\n",
       "0           0      NaN         0    0         0     0                       0   \n",
       "1         RFA      NaN         0    0         0     0                     0.0   \n",
       "2           0      NaN         0    0         0     0                       0   \n",
       "3         OPT  80823.0       RFA    0         0     0                       0   \n",
       "4           0      NaN         0    0         0     0                       0   \n",
       "..        ...      ...       ...  ...       ...   ...                     ...   \n",
       "176         0      NaN         0    0         0     0                       0   \n",
       "177         0      NaN         0    0         0     0  2020, 2021, 2022, 2023   \n",
       "178       UFA      NaN         0    0         0     0                       0   \n",
       "179         0      NaN         0    0         0     0                       0   \n",
       "180         0      NaN         0    0         0     0                     0.0   \n",
       "\n",
       "                   TEAM  \n",
       "0        Las Vegas Aces  \n",
       "1         Atlanta Dream  \n",
       "2        Minnesota Lynx  \n",
       "3        Las Vegas Aces  \n",
       "4           Chicago Sky  \n",
       "..                  ...  \n",
       "176     Phoenix Mercury  \n",
       "177     Phoenix Mercury  \n",
       "178     Phoenix Mercury  \n",
       "179    New York Liberty  \n",
       "180  Washington Mystics  \n",
       "\n",
       "[181 rows x 14 columns]"
      ]
     },
     "execution_count": 10,
     "metadata": {},
     "output_type": "execute_result"
    }
   ],
   "source": [
    "merged"
   ]
  },
  {
   "cell_type": "code",
   "execution_count": 11,
   "id": "51efcb05-9704-4204-863f-0a02da07c448",
   "metadata": {
    "tags": []
   },
   "outputs": [
    {
     "data": {
      "text/html": [
       "<div>\n",
       "<style scoped>\n",
       "    .dataframe tbody tr th:only-of-type {\n",
       "        vertical-align: middle;\n",
       "    }\n",
       "\n",
       "    .dataframe tbody tr th {\n",
       "        vertical-align: top;\n",
       "    }\n",
       "\n",
       "    .dataframe thead th {\n",
       "        text-align: right;\n",
       "    }\n",
       "</style>\n",
       "<table border=\"1\" class=\"dataframe\">\n",
       "  <thead>\n",
       "    <tr style=\"text-align: right;\">\n",
       "      <th>TEAM</th>\n",
       "      <th>Atlanta Dream</th>\n",
       "      <th>Chicago Sky</th>\n",
       "      <th>Connecticut Sun</th>\n",
       "      <th>Dallas Wings</th>\n",
       "      <th>Indiana Fever</th>\n",
       "      <th>Las Vegas Aces</th>\n",
       "      <th>Los Angeles Sparks</th>\n",
       "      <th>Minnesota Lynx</th>\n",
       "      <th>New York Liberty</th>\n",
       "      <th>Phoenix Mercury</th>\n",
       "      <th>Seattle Storm</th>\n",
       "      <th>Washington Mystics</th>\n",
       "      <th>League</th>\n",
       "    </tr>\n",
       "  </thead>\n",
       "  <tbody>\n",
       "    <tr>\n",
       "      <th>2023</th>\n",
       "      <td>1329385.0</td>\n",
       "      <td>1914712.0</td>\n",
       "      <td>1112544.0</td>\n",
       "      <td>1065779.0</td>\n",
       "      <td>2092738.0</td>\n",
       "      <td>1849696.0</td>\n",
       "      <td>1940360.0</td>\n",
       "      <td>1641691.0</td>\n",
       "      <td>2018315.0</td>\n",
       "      <td>1379943.0</td>\n",
       "      <td>1356242.0</td>\n",
       "      <td>1444459.0</td>\n",
       "      <td>1.595489e+06</td>\n",
       "    </tr>\n",
       "    <tr>\n",
       "      <th>2024</th>\n",
       "      <td>775165.0</td>\n",
       "      <td>871003.0</td>\n",
       "      <td>561991.0</td>\n",
       "      <td>864472.0</td>\n",
       "      <td>1514245.0</td>\n",
       "      <td>1266087.0</td>\n",
       "      <td>599078.0</td>\n",
       "      <td>455419.0</td>\n",
       "      <td>273139.0</td>\n",
       "      <td>766626.0</td>\n",
       "      <td>610000.0</td>\n",
       "      <td>548993.0</td>\n",
       "      <td>7.588515e+05</td>\n",
       "    </tr>\n",
       "    <tr>\n",
       "      <th>2025</th>\n",
       "      <td>531890.0</td>\n",
       "      <td>358038.0</td>\n",
       "      <td>165366.0</td>\n",
       "      <td>397070.0</td>\n",
       "      <td>779477.0</td>\n",
       "      <td>249909.0</td>\n",
       "      <td>84543.0</td>\n",
       "      <td>214284.0</td>\n",
       "      <td>0.0</td>\n",
       "      <td>145500.0</td>\n",
       "      <td>0.0</td>\n",
       "      <td>286981.0</td>\n",
       "      <td>2.677548e+05</td>\n",
       "    </tr>\n",
       "  </tbody>\n",
       "</table>\n",
       "</div>"
      ],
      "text/plain": [
       "TEAM  Atlanta Dream  Chicago Sky  Connecticut Sun  Dallas Wings  \\\n",
       "2023      1329385.0    1914712.0        1112544.0     1065779.0   \n",
       "2024       775165.0     871003.0         561991.0      864472.0   \n",
       "2025       531890.0     358038.0         165366.0      397070.0   \n",
       "\n",
       "TEAM  Indiana Fever  Las Vegas Aces  Los Angeles Sparks  Minnesota Lynx  \\\n",
       "2023      2092738.0       1849696.0           1940360.0       1641691.0   \n",
       "2024      1514245.0       1266087.0            599078.0        455419.0   \n",
       "2025       779477.0        249909.0             84543.0        214284.0   \n",
       "\n",
       "TEAM  New York Liberty  Phoenix Mercury  Seattle Storm  Washington Mystics  \\\n",
       "2023         2018315.0        1379943.0      1356242.0           1444459.0   \n",
       "2024          273139.0         766626.0       610000.0            548993.0   \n",
       "2025               0.0         145500.0            0.0            286981.0   \n",
       "\n",
       "TEAM        League  \n",
       "2023  1.595489e+06  \n",
       "2024  7.588515e+05  \n",
       "2025  2.677548e+05  "
      ]
     },
     "execution_count": 11,
     "metadata": {},
     "output_type": "execute_result"
    }
   ],
   "source": [
    "grouped = merged.groupby(\"TEAM\")[[\"2023\", \"2024\", \"2025\"]].sum().T\n",
    "grouped[\"League\"] = grouped.aggregate(func = np.mean, axis = 1)\n",
    "grouped"
   ]
  },
  {
   "cell_type": "code",
   "execution_count": 12,
   "id": "6de6c723-e906-4da0-9bc3-cd997ff16757",
   "metadata": {
    "tags": []
   },
   "outputs": [],
   "source": [
    "color_sequence = [\"#C8102E\", \n",
    "                  \"#418FDE\", \n",
    "                  \"#DC4405\", \n",
    "                  \"#C4D600\", \n",
    "                  \"#FFCD00\", \n",
    "                  \"#85714D\", \n",
    "                  \"#702F8A\", \n",
    "                  \"#236192\",\n",
    "                  \"#6ECEB2\",\n",
    "                  \"#CB6015\",\n",
    "                  \"#2C5234\",\n",
    "                  \"#C8102E\",\n",
    "                  \"black\"]"
   ]
  },
  {
   "cell_type": "code",
   "execution_count": 94,
   "id": "746cfbfc-f890-46f4-97c5-2a89931e847a",
   "metadata": {
    "tags": []
   },
   "outputs": [
    {
     "data": {
      "application/vnd.plotly.v1+json": {
       "config": {
        "plotlyServerURL": "https://plot.ly"
       },
       "data": [
        {
         "hovertemplate": "Team=Atlanta Dream<br>Year=%{x}<br>Salary Commitments=%{y}<extra></extra>",
         "legendgroup": "Atlanta Dream",
         "line": {
          "color": "#C8102E",
          "dash": "solid",
          "width": 1
         },
         "marker": {
          "symbol": "circle"
         },
         "mode": "lines",
         "name": "Atlanta Dream",
         "orientation": "v",
         "showlegend": true,
         "type": "scatter",
         "x": [
          "2023",
          "2024",
          "2025"
         ],
         "xaxis": "x",
         "y": [
          1329385,
          775165,
          531890
         ],
         "yaxis": "y"
        },
        {
         "hovertemplate": "Team=Chicago Sky<br>Year=%{x}<br>Salary Commitments=%{y}<extra></extra>",
         "legendgroup": "Chicago Sky",
         "line": {
          "color": "#418FDE",
          "dash": "solid",
          "width": 1
         },
         "marker": {
          "symbol": "circle"
         },
         "mode": "lines",
         "name": "Chicago Sky",
         "orientation": "v",
         "showlegend": true,
         "type": "scatter",
         "x": [
          "2023",
          "2024",
          "2025"
         ],
         "xaxis": "x",
         "y": [
          1914712,
          871003,
          358038
         ],
         "yaxis": "y"
        },
        {
         "hovertemplate": "Team=Connecticut Sun<br>Year=%{x}<br>Salary Commitments=%{y}<extra></extra>",
         "legendgroup": "Connecticut Sun",
         "line": {
          "color": "#DC4405",
          "dash": "solid",
          "width": 1
         },
         "marker": {
          "symbol": "circle"
         },
         "mode": "lines",
         "name": "Connecticut Sun",
         "orientation": "v",
         "showlegend": true,
         "type": "scatter",
         "x": [
          "2023",
          "2024",
          "2025"
         ],
         "xaxis": "x",
         "y": [
          1112544,
          561991,
          165366
         ],
         "yaxis": "y"
        },
        {
         "hovertemplate": "Team=Dallas Wings<br>Year=%{x}<br>Salary Commitments=%{y}<extra></extra>",
         "legendgroup": "Dallas Wings",
         "line": {
          "color": "#C4D600",
          "dash": "solid",
          "width": 1
         },
         "marker": {
          "symbol": "circle"
         },
         "mode": "lines",
         "name": "Dallas Wings",
         "orientation": "v",
         "showlegend": true,
         "type": "scatter",
         "x": [
          "2023",
          "2024",
          "2025"
         ],
         "xaxis": "x",
         "y": [
          1065779,
          864472,
          397070
         ],
         "yaxis": "y"
        },
        {
         "hovertemplate": "Team=Indiana Fever<br>Year=%{x}<br>Salary Commitments=%{y}<extra></extra>",
         "legendgroup": "Indiana Fever",
         "line": {
          "color": "#FFCD00",
          "dash": "solid",
          "width": 1
         },
         "marker": {
          "symbol": "circle"
         },
         "mode": "lines",
         "name": "Indiana Fever",
         "orientation": "v",
         "showlegend": true,
         "type": "scatter",
         "x": [
          "2023",
          "2024",
          "2025"
         ],
         "xaxis": "x",
         "y": [
          2092738,
          1514245,
          779477
         ],
         "yaxis": "y"
        },
        {
         "hovertemplate": "Team=Las Vegas Aces<br>Year=%{x}<br>Salary Commitments=%{y}<extra></extra>",
         "legendgroup": "Las Vegas Aces",
         "line": {
          "color": "#85714D",
          "dash": "solid",
          "width": 1
         },
         "marker": {
          "symbol": "circle"
         },
         "mode": "lines",
         "name": "Las Vegas Aces",
         "orientation": "v",
         "showlegend": true,
         "type": "scatter",
         "x": [
          "2023",
          "2024",
          "2025"
         ],
         "xaxis": "x",
         "y": [
          1849696,
          1266087,
          249909
         ],
         "yaxis": "y"
        },
        {
         "hovertemplate": "Team=Los Angeles Sparks<br>Year=%{x}<br>Salary Commitments=%{y}<extra></extra>",
         "legendgroup": "Los Angeles Sparks",
         "line": {
          "color": "#702F8A",
          "dash": "solid",
          "width": 1
         },
         "marker": {
          "symbol": "circle"
         },
         "mode": "lines",
         "name": "Los Angeles Sparks",
         "orientation": "v",
         "showlegend": true,
         "type": "scatter",
         "x": [
          "2023",
          "2024",
          "2025"
         ],
         "xaxis": "x",
         "y": [
          1940360,
          599078,
          84543
         ],
         "yaxis": "y"
        },
        {
         "hovertemplate": "Team=Minnesota Lynx<br>Year=%{x}<br>Salary Commitments=%{y}<extra></extra>",
         "legendgroup": "Minnesota Lynx",
         "line": {
          "color": "#236192",
          "dash": "solid",
          "width": 1
         },
         "marker": {
          "symbol": "circle"
         },
         "mode": "lines",
         "name": "Minnesota Lynx",
         "orientation": "v",
         "showlegend": true,
         "type": "scatter",
         "x": [
          "2023",
          "2024",
          "2025"
         ],
         "xaxis": "x",
         "y": [
          1641691,
          455419,
          214284
         ],
         "yaxis": "y"
        },
        {
         "hovertemplate": "Team=New York Liberty<br>Year=%{x}<br>Salary Commitments=%{y}<extra></extra>",
         "legendgroup": "New York Liberty",
         "line": {
          "color": "#6ECEB2",
          "dash": "solid",
          "width": 1
         },
         "marker": {
          "symbol": "circle"
         },
         "mode": "lines",
         "name": "New York Liberty",
         "orientation": "v",
         "showlegend": true,
         "type": "scatter",
         "x": [
          "2023",
          "2024",
          "2025"
         ],
         "xaxis": "x",
         "y": [
          2018315,
          273139,
          0
         ],
         "yaxis": "y"
        },
        {
         "hovertemplate": "Team=Phoenix Mercury<br>Year=%{x}<br>Salary Commitments=%{y}<extra></extra>",
         "legendgroup": "Phoenix Mercury",
         "line": {
          "color": "#CB6015",
          "dash": "solid",
          "width": 1
         },
         "marker": {
          "symbol": "circle"
         },
         "mode": "lines",
         "name": "Phoenix Mercury",
         "orientation": "v",
         "showlegend": true,
         "type": "scatter",
         "x": [
          "2023",
          "2024",
          "2025"
         ],
         "xaxis": "x",
         "y": [
          1379943,
          766626,
          145500
         ],
         "yaxis": "y"
        },
        {
         "hovertemplate": "Team=Seattle Storm<br>Year=%{x}<br>Salary Commitments=%{y}<extra></extra>",
         "legendgroup": "Seattle Storm",
         "line": {
          "color": "#2C5234",
          "dash": "solid",
          "width": 1
         },
         "marker": {
          "symbol": "circle"
         },
         "mode": "lines",
         "name": "Seattle Storm",
         "orientation": "v",
         "showlegend": true,
         "type": "scatter",
         "x": [
          "2023",
          "2024",
          "2025"
         ],
         "xaxis": "x",
         "y": [
          1356242,
          610000,
          0
         ],
         "yaxis": "y"
        },
        {
         "hovertemplate": "Team=Washington Mystics<br>Year=%{x}<br>Salary Commitments=%{y}<extra></extra>",
         "legendgroup": "Washington Mystics",
         "line": {
          "color": "#C8102E",
          "dash": "solid",
          "width": 1
         },
         "marker": {
          "symbol": "circle"
         },
         "mode": "lines",
         "name": "Washington Mystics",
         "orientation": "v",
         "showlegend": true,
         "type": "scatter",
         "x": [
          "2023",
          "2024",
          "2025"
         ],
         "xaxis": "x",
         "y": [
          1444459,
          548993,
          286981
         ],
         "yaxis": "y"
        },
        {
         "hovertemplate": "Team=League<br>Year=%{x}<br>Salary Commitments=%{y}<extra></extra>",
         "legendgroup": "League",
         "line": {
          "color": "black",
          "dash": "solid",
          "width": 3
         },
         "marker": {
          "symbol": "circle"
         },
         "mode": "lines",
         "name": "League",
         "orientation": "v",
         "showlegend": true,
         "type": "scatter",
         "x": [
          "2023",
          "2024",
          "2025"
         ],
         "xaxis": "x",
         "y": [
          1595488.6666666667,
          758851.5,
          267754.8333333333
         ],
         "yaxis": "y"
        }
       ],
       "layout": {
        "autosize": true,
        "legend": {
         "title": {
          "text": "Team"
         },
         "tracegroupgap": 0
        },
        "template": {
         "data": {
          "bar": [
           {
            "error_x": {
             "color": "#2a3f5f"
            },
            "error_y": {
             "color": "#2a3f5f"
            },
            "marker": {
             "line": {
              "color": "#E5ECF6",
              "width": 0.5
             },
             "pattern": {
              "fillmode": "overlay",
              "size": 10,
              "solidity": 0.2
             }
            },
            "type": "bar"
           }
          ],
          "barpolar": [
           {
            "marker": {
             "line": {
              "color": "#E5ECF6",
              "width": 0.5
             },
             "pattern": {
              "fillmode": "overlay",
              "size": 10,
              "solidity": 0.2
             }
            },
            "type": "barpolar"
           }
          ],
          "carpet": [
           {
            "aaxis": {
             "endlinecolor": "#2a3f5f",
             "gridcolor": "white",
             "linecolor": "white",
             "minorgridcolor": "white",
             "startlinecolor": "#2a3f5f"
            },
            "baxis": {
             "endlinecolor": "#2a3f5f",
             "gridcolor": "white",
             "linecolor": "white",
             "minorgridcolor": "white",
             "startlinecolor": "#2a3f5f"
            },
            "type": "carpet"
           }
          ],
          "choropleth": [
           {
            "colorbar": {
             "outlinewidth": 0,
             "ticks": ""
            },
            "type": "choropleth"
           }
          ],
          "contour": [
           {
            "colorbar": {
             "outlinewidth": 0,
             "ticks": ""
            },
            "colorscale": [
             [
              0,
              "#0d0887"
             ],
             [
              0.1111111111111111,
              "#46039f"
             ],
             [
              0.2222222222222222,
              "#7201a8"
             ],
             [
              0.3333333333333333,
              "#9c179e"
             ],
             [
              0.4444444444444444,
              "#bd3786"
             ],
             [
              0.5555555555555556,
              "#d8576b"
             ],
             [
              0.6666666666666666,
              "#ed7953"
             ],
             [
              0.7777777777777778,
              "#fb9f3a"
             ],
             [
              0.8888888888888888,
              "#fdca26"
             ],
             [
              1,
              "#f0f921"
             ]
            ],
            "type": "contour"
           }
          ],
          "contourcarpet": [
           {
            "colorbar": {
             "outlinewidth": 0,
             "ticks": ""
            },
            "type": "contourcarpet"
           }
          ],
          "heatmap": [
           {
            "colorbar": {
             "outlinewidth": 0,
             "ticks": ""
            },
            "colorscale": [
             [
              0,
              "#0d0887"
             ],
             [
              0.1111111111111111,
              "#46039f"
             ],
             [
              0.2222222222222222,
              "#7201a8"
             ],
             [
              0.3333333333333333,
              "#9c179e"
             ],
             [
              0.4444444444444444,
              "#bd3786"
             ],
             [
              0.5555555555555556,
              "#d8576b"
             ],
             [
              0.6666666666666666,
              "#ed7953"
             ],
             [
              0.7777777777777778,
              "#fb9f3a"
             ],
             [
              0.8888888888888888,
              "#fdca26"
             ],
             [
              1,
              "#f0f921"
             ]
            ],
            "type": "heatmap"
           }
          ],
          "heatmapgl": [
           {
            "colorbar": {
             "outlinewidth": 0,
             "ticks": ""
            },
            "colorscale": [
             [
              0,
              "#0d0887"
             ],
             [
              0.1111111111111111,
              "#46039f"
             ],
             [
              0.2222222222222222,
              "#7201a8"
             ],
             [
              0.3333333333333333,
              "#9c179e"
             ],
             [
              0.4444444444444444,
              "#bd3786"
             ],
             [
              0.5555555555555556,
              "#d8576b"
             ],
             [
              0.6666666666666666,
              "#ed7953"
             ],
             [
              0.7777777777777778,
              "#fb9f3a"
             ],
             [
              0.8888888888888888,
              "#fdca26"
             ],
             [
              1,
              "#f0f921"
             ]
            ],
            "type": "heatmapgl"
           }
          ],
          "histogram": [
           {
            "marker": {
             "pattern": {
              "fillmode": "overlay",
              "size": 10,
              "solidity": 0.2
             }
            },
            "type": "histogram"
           }
          ],
          "histogram2d": [
           {
            "colorbar": {
             "outlinewidth": 0,
             "ticks": ""
            },
            "colorscale": [
             [
              0,
              "#0d0887"
             ],
             [
              0.1111111111111111,
              "#46039f"
             ],
             [
              0.2222222222222222,
              "#7201a8"
             ],
             [
              0.3333333333333333,
              "#9c179e"
             ],
             [
              0.4444444444444444,
              "#bd3786"
             ],
             [
              0.5555555555555556,
              "#d8576b"
             ],
             [
              0.6666666666666666,
              "#ed7953"
             ],
             [
              0.7777777777777778,
              "#fb9f3a"
             ],
             [
              0.8888888888888888,
              "#fdca26"
             ],
             [
              1,
              "#f0f921"
             ]
            ],
            "type": "histogram2d"
           }
          ],
          "histogram2dcontour": [
           {
            "colorbar": {
             "outlinewidth": 0,
             "ticks": ""
            },
            "colorscale": [
             [
              0,
              "#0d0887"
             ],
             [
              0.1111111111111111,
              "#46039f"
             ],
             [
              0.2222222222222222,
              "#7201a8"
             ],
             [
              0.3333333333333333,
              "#9c179e"
             ],
             [
              0.4444444444444444,
              "#bd3786"
             ],
             [
              0.5555555555555556,
              "#d8576b"
             ],
             [
              0.6666666666666666,
              "#ed7953"
             ],
             [
              0.7777777777777778,
              "#fb9f3a"
             ],
             [
              0.8888888888888888,
              "#fdca26"
             ],
             [
              1,
              "#f0f921"
             ]
            ],
            "type": "histogram2dcontour"
           }
          ],
          "mesh3d": [
           {
            "colorbar": {
             "outlinewidth": 0,
             "ticks": ""
            },
            "type": "mesh3d"
           }
          ],
          "parcoords": [
           {
            "line": {
             "colorbar": {
              "outlinewidth": 0,
              "ticks": ""
             }
            },
            "type": "parcoords"
           }
          ],
          "pie": [
           {
            "automargin": true,
            "type": "pie"
           }
          ],
          "scatter": [
           {
            "fillpattern": {
             "fillmode": "overlay",
             "size": 10,
             "solidity": 0.2
            },
            "type": "scatter"
           }
          ],
          "scatter3d": [
           {
            "line": {
             "colorbar": {
              "outlinewidth": 0,
              "ticks": ""
             }
            },
            "marker": {
             "colorbar": {
              "outlinewidth": 0,
              "ticks": ""
             }
            },
            "type": "scatter3d"
           }
          ],
          "scattercarpet": [
           {
            "marker": {
             "colorbar": {
              "outlinewidth": 0,
              "ticks": ""
             }
            },
            "type": "scattercarpet"
           }
          ],
          "scattergeo": [
           {
            "marker": {
             "colorbar": {
              "outlinewidth": 0,
              "ticks": ""
             }
            },
            "type": "scattergeo"
           }
          ],
          "scattergl": [
           {
            "marker": {
             "colorbar": {
              "outlinewidth": 0,
              "ticks": ""
             }
            },
            "type": "scattergl"
           }
          ],
          "scattermapbox": [
           {
            "marker": {
             "colorbar": {
              "outlinewidth": 0,
              "ticks": ""
             }
            },
            "type": "scattermapbox"
           }
          ],
          "scatterpolar": [
           {
            "marker": {
             "colorbar": {
              "outlinewidth": 0,
              "ticks": ""
             }
            },
            "type": "scatterpolar"
           }
          ],
          "scatterpolargl": [
           {
            "marker": {
             "colorbar": {
              "outlinewidth": 0,
              "ticks": ""
             }
            },
            "type": "scatterpolargl"
           }
          ],
          "scatterternary": [
           {
            "marker": {
             "colorbar": {
              "outlinewidth": 0,
              "ticks": ""
             }
            },
            "type": "scatterternary"
           }
          ],
          "surface": [
           {
            "colorbar": {
             "outlinewidth": 0,
             "ticks": ""
            },
            "colorscale": [
             [
              0,
              "#0d0887"
             ],
             [
              0.1111111111111111,
              "#46039f"
             ],
             [
              0.2222222222222222,
              "#7201a8"
             ],
             [
              0.3333333333333333,
              "#9c179e"
             ],
             [
              0.4444444444444444,
              "#bd3786"
             ],
             [
              0.5555555555555556,
              "#d8576b"
             ],
             [
              0.6666666666666666,
              "#ed7953"
             ],
             [
              0.7777777777777778,
              "#fb9f3a"
             ],
             [
              0.8888888888888888,
              "#fdca26"
             ],
             [
              1,
              "#f0f921"
             ]
            ],
            "type": "surface"
           }
          ],
          "table": [
           {
            "cells": {
             "fill": {
              "color": "#EBF0F8"
             },
             "line": {
              "color": "white"
             }
            },
            "header": {
             "fill": {
              "color": "#C8D4E3"
             },
             "line": {
              "color": "white"
             }
            },
            "type": "table"
           }
          ]
         },
         "layout": {
          "annotationdefaults": {
           "arrowcolor": "#2a3f5f",
           "arrowhead": 0,
           "arrowwidth": 1
          },
          "autotypenumbers": "strict",
          "coloraxis": {
           "colorbar": {
            "outlinewidth": 0,
            "ticks": ""
           }
          },
          "colorscale": {
           "diverging": [
            [
             0,
             "#8e0152"
            ],
            [
             0.1,
             "#c51b7d"
            ],
            [
             0.2,
             "#de77ae"
            ],
            [
             0.3,
             "#f1b6da"
            ],
            [
             0.4,
             "#fde0ef"
            ],
            [
             0.5,
             "#f7f7f7"
            ],
            [
             0.6,
             "#e6f5d0"
            ],
            [
             0.7,
             "#b8e186"
            ],
            [
             0.8,
             "#7fbc41"
            ],
            [
             0.9,
             "#4d9221"
            ],
            [
             1,
             "#276419"
            ]
           ],
           "sequential": [
            [
             0,
             "#0d0887"
            ],
            [
             0.1111111111111111,
             "#46039f"
            ],
            [
             0.2222222222222222,
             "#7201a8"
            ],
            [
             0.3333333333333333,
             "#9c179e"
            ],
            [
             0.4444444444444444,
             "#bd3786"
            ],
            [
             0.5555555555555556,
             "#d8576b"
            ],
            [
             0.6666666666666666,
             "#ed7953"
            ],
            [
             0.7777777777777778,
             "#fb9f3a"
            ],
            [
             0.8888888888888888,
             "#fdca26"
            ],
            [
             1,
             "#f0f921"
            ]
           ],
           "sequentialminus": [
            [
             0,
             "#0d0887"
            ],
            [
             0.1111111111111111,
             "#46039f"
            ],
            [
             0.2222222222222222,
             "#7201a8"
            ],
            [
             0.3333333333333333,
             "#9c179e"
            ],
            [
             0.4444444444444444,
             "#bd3786"
            ],
            [
             0.5555555555555556,
             "#d8576b"
            ],
            [
             0.6666666666666666,
             "#ed7953"
            ],
            [
             0.7777777777777778,
             "#fb9f3a"
            ],
            [
             0.8888888888888888,
             "#fdca26"
            ],
            [
             1,
             "#f0f921"
            ]
           ]
          },
          "colorway": [
           "#636efa",
           "#EF553B",
           "#00cc96",
           "#ab63fa",
           "#FFA15A",
           "#19d3f3",
           "#FF6692",
           "#B6E880",
           "#FF97FF",
           "#FECB52"
          ],
          "font": {
           "color": "#2a3f5f"
          },
          "geo": {
           "bgcolor": "white",
           "lakecolor": "white",
           "landcolor": "#E5ECF6",
           "showlakes": true,
           "showland": true,
           "subunitcolor": "white"
          },
          "hoverlabel": {
           "align": "left"
          },
          "hovermode": "closest",
          "mapbox": {
           "style": "light"
          },
          "paper_bgcolor": "white",
          "plot_bgcolor": "#E5ECF6",
          "polar": {
           "angularaxis": {
            "gridcolor": "white",
            "linecolor": "white",
            "ticks": ""
           },
           "bgcolor": "#E5ECF6",
           "radialaxis": {
            "gridcolor": "white",
            "linecolor": "white",
            "ticks": ""
           }
          },
          "scene": {
           "xaxis": {
            "backgroundcolor": "#E5ECF6",
            "gridcolor": "white",
            "gridwidth": 2,
            "linecolor": "white",
            "showbackground": true,
            "ticks": "",
            "zerolinecolor": "white"
           },
           "yaxis": {
            "backgroundcolor": "#E5ECF6",
            "gridcolor": "white",
            "gridwidth": 2,
            "linecolor": "white",
            "showbackground": true,
            "ticks": "",
            "zerolinecolor": "white"
           },
           "zaxis": {
            "backgroundcolor": "#E5ECF6",
            "gridcolor": "white",
            "gridwidth": 2,
            "linecolor": "white",
            "showbackground": true,
            "ticks": "",
            "zerolinecolor": "white"
           }
          },
          "shapedefaults": {
           "line": {
            "color": "#2a3f5f"
           }
          },
          "ternary": {
           "aaxis": {
            "gridcolor": "white",
            "linecolor": "white",
            "ticks": ""
           },
           "baxis": {
            "gridcolor": "white",
            "linecolor": "white",
            "ticks": ""
           },
           "bgcolor": "#E5ECF6",
           "caxis": {
            "gridcolor": "white",
            "linecolor": "white",
            "ticks": ""
           }
          },
          "title": {
           "x": 0.05
          },
          "xaxis": {
           "automargin": true,
           "gridcolor": "white",
           "linecolor": "white",
           "ticks": "",
           "title": {
            "standoff": 15
           },
           "zerolinecolor": "white",
           "zerolinewidth": 2
          },
          "yaxis": {
           "automargin": true,
           "gridcolor": "white",
           "linecolor": "white",
           "ticks": "",
           "title": {
            "standoff": 15
           },
           "zerolinecolor": "white",
           "zerolinewidth": 2
          }
         }
        },
        "title": {
         "text": "Preset Team Salary Commitments Over Time"
        },
        "xaxis": {
         "anchor": "y",
         "autorange": true,
         "domain": [
          0,
          1
         ],
         "range": [
          0,
          2
         ],
         "title": {
          "text": "Year"
         },
         "type": "category"
        },
        "yaxis": {
         "anchor": "x",
         "autorange": true,
         "domain": [
          0,
          1
         ],
         "range": [
          -116263.22222222222,
          2209001.222222222
         ],
         "title": {
          "text": "Salary Commitments"
         },
         "type": "linear"
        }
       }
      },
      "image/png": "[encoded data removed]",
      "text/html": [
       "<div>                            <div id=\"cc182855-d045-4244-b4d6-96448e1dd160\" class=\"plotly-graph-div\" style=\"height:525px; width:100%;\"></div>            <script type=\"text/javascript\">                require([\"plotly\"], function(Plotly) {                    window.PLOTLYENV=window.PLOTLYENV || {};                                    if (document.getElementById(\"cc182855-d045-4244-b4d6-96448e1dd160\")) {                    Plotly.newPlot(                        \"cc182855-d045-4244-b4d6-96448e1dd160\",                        [{\"hovertemplate\":\"Team=Atlanta Dream<br>Year=%{x}<br>Salary Commitments=%{y}<extra></extra>\",\"legendgroup\":\"Atlanta Dream\",\"line\":{\"color\":\"#C8102E\",\"dash\":\"solid\",\"width\":1},\"marker\":{\"symbol\":\"circle\"},\"mode\":\"lines\",\"name\":\"Atlanta Dream\",\"orientation\":\"v\",\"showlegend\":true,\"x\":[\"2023\",\"2024\",\"2025\"],\"xaxis\":\"x\",\"y\":[1329385.0,775165.0,531890.0],\"yaxis\":\"y\",\"type\":\"scatter\"},{\"hovertemplate\":\"Team=Chicago Sky<br>Year=%{x}<br>Salary Commitments=%{y}<extra></extra>\",\"legendgroup\":\"Chicago Sky\",\"line\":{\"color\":\"#418FDE\",\"dash\":\"solid\",\"width\":1},\"marker\":{\"symbol\":\"circle\"},\"mode\":\"lines\",\"name\":\"Chicago Sky\",\"orientation\":\"v\",\"showlegend\":true,\"x\":[\"2023\",\"2024\",\"2025\"],\"xaxis\":\"x\",\"y\":[1914712.0,871003.0,358038.0],\"yaxis\":\"y\",\"type\":\"scatter\"},{\"hovertemplate\":\"Team=Connecticut Sun<br>Year=%{x}<br>Salary Commitments=%{y}<extra></extra>\",\"legendgroup\":\"Connecticut Sun\",\"line\":{\"color\":\"#DC4405\",\"dash\":\"solid\",\"width\":1},\"marker\":{\"symbol\":\"circle\"},\"mode\":\"lines\",\"name\":\"Connecticut Sun\",\"orientation\":\"v\",\"showlegend\":true,\"x\":[\"2023\",\"2024\",\"2025\"],\"xaxis\":\"x\",\"y\":[1112544.0,561991.0,165366.0],\"yaxis\":\"y\",\"type\":\"scatter\"},{\"hovertemplate\":\"Team=Dallas Wings<br>Year=%{x}<br>Salary Commitments=%{y}<extra></extra>\",\"legendgroup\":\"Dallas Wings\",\"line\":{\"color\":\"#C4D600\",\"dash\":\"solid\",\"width\":1},\"marker\":{\"symbol\":\"circle\"},\"mode\":\"lines\",\"name\":\"Dallas Wings\",\"orientation\":\"v\",\"showlegend\":true,\"x\":[\"2023\",\"2024\",\"2025\"],\"xaxis\":\"x\",\"y\":[1065779.0,864472.0,397070.0],\"yaxis\":\"y\",\"type\":\"scatter\"},{\"hovertemplate\":\"Team=Indiana Fever<br>Year=%{x}<br>Salary Commitments=%{y}<extra></extra>\",\"legendgroup\":\"Indiana Fever\",\"line\":{\"color\":\"#FFCD00\",\"dash\":\"solid\",\"width\":1},\"marker\":{\"symbol\":\"circle\"},\"mode\":\"lines\",\"name\":\"Indiana Fever\",\"orientation\":\"v\",\"showlegend\":true,\"x\":[\"2023\",\"2024\",\"2025\"],\"xaxis\":\"x\",\"y\":[2092738.0,1514245.0,779477.0],\"yaxis\":\"y\",\"type\":\"scatter\"},{\"hovertemplate\":\"Team=Las Vegas Aces<br>Year=%{x}<br>Salary Commitments=%{y}<extra></extra>\",\"legendgroup\":\"Las Vegas Aces\",\"line\":{\"color\":\"#85714D\",\"dash\":\"solid\",\"width\":1},\"marker\":{\"symbol\":\"circle\"},\"mode\":\"lines\",\"name\":\"Las Vegas Aces\",\"orientation\":\"v\",\"showlegend\":true,\"x\":[\"2023\",\"2024\",\"2025\"],\"xaxis\":\"x\",\"y\":[1849696.0,1266087.0,249909.0],\"yaxis\":\"y\",\"type\":\"scatter\"},{\"hovertemplate\":\"Team=Los Angeles Sparks<br>Year=%{x}<br>Salary Commitments=%{y}<extra></extra>\",\"legendgroup\":\"Los Angeles Sparks\",\"line\":{\"color\":\"#702F8A\",\"dash\":\"solid\",\"width\":1},\"marker\":{\"symbol\":\"circle\"},\"mode\":\"lines\",\"name\":\"Los Angeles Sparks\",\"orientation\":\"v\",\"showlegend\":true,\"x\":[\"2023\",\"2024\",\"2025\"],\"xaxis\":\"x\",\"y\":[1940360.0,599078.0,84543.0],\"yaxis\":\"y\",\"type\":\"scatter\"},{\"hovertemplate\":\"Team=Minnesota Lynx<br>Year=%{x}<br>Salary Commitments=%{y}<extra></extra>\",\"legendgroup\":\"Minnesota Lynx\",\"line\":{\"color\":\"#236192\",\"dash\":\"solid\",\"width\":1},\"marker\":{\"symbol\":\"circle\"},\"mode\":\"lines\",\"name\":\"Minnesota Lynx\",\"orientation\":\"v\",\"showlegend\":true,\"x\":[\"2023\",\"2024\",\"2025\"],\"xaxis\":\"x\",\"y\":[1641691.0,455419.0,214284.0],\"yaxis\":\"y\",\"type\":\"scatter\"},{\"hovertemplate\":\"Team=New York Liberty<br>Year=%{x}<br>Salary Commitments=%{y}<extra></extra>\",\"legendgroup\":\"New York Liberty\",\"line\":{\"color\":\"#6ECEB2\",\"dash\":\"solid\",\"width\":1},\"marker\":{\"symbol\":\"circle\"},\"mode\":\"lines\",\"name\":\"New York Liberty\",\"orientation\":\"v\",\"showlegend\":true,\"x\":[\"2023\",\"2024\",\"2025\"],\"xaxis\":\"x\",\"y\":[2018315.0,273139.0,0.0],\"yaxis\":\"y\",\"type\":\"scatter\"},{\"hovertemplate\":\"Team=Phoenix Mercury<br>Year=%{x}<br>Salary Commitments=%{y}<extra></extra>\",\"legendgroup\":\"Phoenix Mercury\",\"line\":{\"color\":\"#CB6015\",\"dash\":\"solid\",\"width\":1},\"marker\":{\"symbol\":\"circle\"},\"mode\":\"lines\",\"name\":\"Phoenix Mercury\",\"orientation\":\"v\",\"showlegend\":true,\"x\":[\"2023\",\"2024\",\"2025\"],\"xaxis\":\"x\",\"y\":[1379943.0,766626.0,145500.0],\"yaxis\":\"y\",\"type\":\"scatter\"},{\"hovertemplate\":\"Team=Seattle Storm<br>Year=%{x}<br>Salary Commitments=%{y}<extra></extra>\",\"legendgroup\":\"Seattle Storm\",\"line\":{\"color\":\"#2C5234\",\"dash\":\"solid\",\"width\":1},\"marker\":{\"symbol\":\"circle\"},\"mode\":\"lines\",\"name\":\"Seattle Storm\",\"orientation\":\"v\",\"showlegend\":true,\"x\":[\"2023\",\"2024\",\"2025\"],\"xaxis\":\"x\",\"y\":[1356242.0,610000.0,0.0],\"yaxis\":\"y\",\"type\":\"scatter\"},{\"hovertemplate\":\"Team=Washington Mystics<br>Year=%{x}<br>Salary Commitments=%{y}<extra></extra>\",\"legendgroup\":\"Washington Mystics\",\"line\":{\"color\":\"#C8102E\",\"dash\":\"solid\",\"width\":1},\"marker\":{\"symbol\":\"circle\"},\"mode\":\"lines\",\"name\":\"Washington Mystics\",\"orientation\":\"v\",\"showlegend\":true,\"x\":[\"2023\",\"2024\",\"2025\"],\"xaxis\":\"x\",\"y\":[1444459.0,548993.0,286981.0],\"yaxis\":\"y\",\"type\":\"scatter\"},{\"hovertemplate\":\"Team=League<br>Year=%{x}<br>Salary Commitments=%{y}<extra></extra>\",\"legendgroup\":\"League\",\"line\":{\"color\":\"black\",\"dash\":\"solid\",\"width\":3},\"marker\":{\"symbol\":\"circle\"},\"mode\":\"lines\",\"name\":\"League\",\"orientation\":\"v\",\"showlegend\":true,\"x\":[\"2023\",\"2024\",\"2025\"],\"xaxis\":\"x\",\"y\":[1595488.6666666667,758851.5,267754.8333333333],\"yaxis\":\"y\",\"type\":\"scatter\"}],                        {\"template\":{\"data\":{\"histogram2dcontour\":[{\"type\":\"histogram2dcontour\",\"colorbar\":{\"outlinewidth\":0,\"ticks\":\"\"},\"colorscale\":[[0.0,\"#0d0887\"],[0.1111111111111111,\"#46039f\"],[0.2222222222222222,\"#7201a8\"],[0.3333333333333333,\"#9c179e\"],[0.4444444444444444,\"#bd3786\"],[0.5555555555555556,\"#d8576b\"],[0.6666666666666666,\"#ed7953\"],[0.7777777777777778,\"#fb9f3a\"],[0.8888888888888888,\"#fdca26\"],[1.0,\"#f0f921\"]]}],\"choropleth\":[{\"type\":\"choropleth\",\"colorbar\":{\"outlinewidth\":0,\"ticks\":\"\"}}],\"histogram2d\":[{\"type\":\"histogram2d\",\"colorbar\":{\"outlinewidth\":0,\"ticks\":\"\"},\"colorscale\":[[0.0,\"#0d0887\"],[0.1111111111111111,\"#46039f\"],[0.2222222222222222,\"#7201a8\"],[0.3333333333333333,\"#9c179e\"],[0.4444444444444444,\"#bd3786\"],[0.5555555555555556,\"#d8576b\"],[0.6666666666666666,\"#ed7953\"],[0.7777777777777778,\"#fb9f3a\"],[0.8888888888888888,\"#fdca26\"],[1.0,\"#f0f921\"]]}],\"heatmap\":[{\"type\":\"heatmap\",\"colorbar\":{\"outlinewidth\":0,\"ticks\":\"\"},\"colorscale\":[[0.0,\"#0d0887\"],[0.1111111111111111,\"#46039f\"],[0.2222222222222222,\"#7201a8\"],[0.3333333333333333,\"#9c179e\"],[0.4444444444444444,\"#bd3786\"],[0.5555555555555556,\"#d8576b\"],[0.6666666666666666,\"#ed7953\"],[0.7777777777777778,\"#fb9f3a\"],[0.8888888888888888,\"#fdca26\"],[1.0,\"#f0f921\"]]}],\"heatmapgl\":[{\"type\":\"heatmapgl\",\"colorbar\":{\"outlinewidth\":0,\"ticks\":\"\"},\"colorscale\":[[0.0,\"#0d0887\"],[0.1111111111111111,\"#46039f\"],[0.2222222222222222,\"#7201a8\"],[0.3333333333333333,\"#9c179e\"],[0.4444444444444444,\"#bd3786\"],[0.5555555555555556,\"#d8576b\"],[0.6666666666666666,\"#ed7953\"],[0.7777777777777778,\"#fb9f3a\"],[0.8888888888888888,\"#fdca26\"],[1.0,\"#f0f921\"]]}],\"contourcarpet\":[{\"type\":\"contourcarpet\",\"colorbar\":{\"outlinewidth\":0,\"ticks\":\"\"}}],\"contour\":[{\"type\":\"contour\",\"colorbar\":{\"outlinewidth\":0,\"ticks\":\"\"},\"colorscale\":[[0.0,\"#0d0887\"],[0.1111111111111111,\"#46039f\"],[0.2222222222222222,\"#7201a8\"],[0.3333333333333333,\"#9c179e\"],[0.4444444444444444,\"#bd3786\"],[0.5555555555555556,\"#d8576b\"],[0.6666666666666666,\"#ed7953\"],[0.7777777777777778,\"#fb9f3a\"],[0.8888888888888888,\"#fdca26\"],[1.0,\"#f0f921\"]]}],\"surface\":[{\"type\":\"surface\",\"colorbar\":{\"outlinewidth\":0,\"ticks\":\"\"},\"colorscale\":[[0.0,\"#0d0887\"],[0.1111111111111111,\"#46039f\"],[0.2222222222222222,\"#7201a8\"],[0.3333333333333333,\"#9c179e\"],[0.4444444444444444,\"#bd3786\"],[0.5555555555555556,\"#d8576b\"],[0.6666666666666666,\"#ed7953\"],[0.7777777777777778,\"#fb9f3a\"],[0.8888888888888888,\"#fdca26\"],[1.0,\"#f0f921\"]]}],\"mesh3d\":[{\"type\":\"mesh3d\",\"colorbar\":{\"outlinewidth\":0,\"ticks\":\"\"}}],\"scatter\":[{\"fillpattern\":{\"fillmode\":\"overlay\",\"size\":10,\"solidity\":0.2},\"type\":\"scatter\"}],\"parcoords\":[{\"type\":\"parcoords\",\"line\":{\"colorbar\":{\"outlinewidth\":0,\"ticks\":\"\"}}}],\"scatterpolargl\":[{\"type\":\"scatterpolargl\",\"marker\":{\"colorbar\":{\"outlinewidth\":0,\"ticks\":\"\"}}}],\"bar\":[{\"error_x\":{\"color\":\"#2a3f5f\"},\"error_y\":{\"color\":\"#2a3f5f\"},\"marker\":{\"line\":{\"color\":\"#E5ECF6\",\"width\":0.5},\"pattern\":{\"fillmode\":\"overlay\",\"size\":10,\"solidity\":0.2}},\"type\":\"bar\"}],\"scattergeo\":[{\"type\":\"scattergeo\",\"marker\":{\"colorbar\":{\"outlinewidth\":0,\"ticks\":\"\"}}}],\"scatterpolar\":[{\"type\":\"scatterpolar\",\"marker\":{\"colorbar\":{\"outlinewidth\":0,\"ticks\":\"\"}}}],\"histogram\":[{\"marker\":{\"pattern\":{\"fillmode\":\"overlay\",\"size\":10,\"solidity\":0.2}},\"type\":\"histogram\"}],\"scattergl\":[{\"type\":\"scattergl\",\"marker\":{\"colorbar\":{\"outlinewidth\":0,\"ticks\":\"\"}}}],\"scatter3d\":[{\"type\":\"scatter3d\",\"line\":{\"colorbar\":{\"outlinewidth\":0,\"ticks\":\"\"}},\"marker\":{\"colorbar\":{\"outlinewidth\":0,\"ticks\":\"\"}}}],\"scattermapbox\":[{\"type\":\"scattermapbox\",\"marker\":{\"colorbar\":{\"outlinewidth\":0,\"ticks\":\"\"}}}],\"scatterternary\":[{\"type\":\"scatterternary\",\"marker\":{\"colorbar\":{\"outlinewidth\":0,\"ticks\":\"\"}}}],\"scattercarpet\":[{\"type\":\"scattercarpet\",\"marker\":{\"colorbar\":{\"outlinewidth\":0,\"ticks\":\"\"}}}],\"carpet\":[{\"aaxis\":{\"endlinecolor\":\"#2a3f5f\",\"gridcolor\":\"white\",\"linecolor\":\"white\",\"minorgridcolor\":\"white\",\"startlinecolor\":\"#2a3f5f\"},\"baxis\":{\"endlinecolor\":\"#2a3f5f\",\"gridcolor\":\"white\",\"linecolor\":\"white\",\"minorgridcolor\":\"white\",\"startlinecolor\":\"#2a3f5f\"},\"type\":\"carpet\"}],\"table\":[{\"cells\":{\"fill\":{\"color\":\"#EBF0F8\"},\"line\":{\"color\":\"white\"}},\"header\":{\"fill\":{\"color\":\"#C8D4E3\"},\"line\":{\"color\":\"white\"}},\"type\":\"table\"}],\"barpolar\":[{\"marker\":{\"line\":{\"color\":\"#E5ECF6\",\"width\":0.5},\"pattern\":{\"fillmode\":\"overlay\",\"size\":10,\"solidity\":0.2}},\"type\":\"barpolar\"}],\"pie\":[{\"automargin\":true,\"type\":\"pie\"}]},\"layout\":{\"autotypenumbers\":\"strict\",\"colorway\":[\"#636efa\",\"#EF553B\",\"#00cc96\",\"#ab63fa\",\"#FFA15A\",\"#19d3f3\",\"#FF6692\",\"#B6E880\",\"#FF97FF\",\"#FECB52\"],\"font\":{\"color\":\"#2a3f5f\"},\"hovermode\":\"closest\",\"hoverlabel\":{\"align\":\"left\"},\"paper_bgcolor\":\"white\",\"plot_bgcolor\":\"#E5ECF6\",\"polar\":{\"bgcolor\":\"#E5ECF6\",\"angularaxis\":{\"gridcolor\":\"white\",\"linecolor\":\"white\",\"ticks\":\"\"},\"radialaxis\":{\"gridcolor\":\"white\",\"linecolor\":\"white\",\"ticks\":\"\"}},\"ternary\":{\"bgcolor\":\"#E5ECF6\",\"aaxis\":{\"gridcolor\":\"white\",\"linecolor\":\"white\",\"ticks\":\"\"},\"baxis\":{\"gridcolor\":\"white\",\"linecolor\":\"white\",\"ticks\":\"\"},\"caxis\":{\"gridcolor\":\"white\",\"linecolor\":\"white\",\"ticks\":\"\"}},\"coloraxis\":{\"colorbar\":{\"outlinewidth\":0,\"ticks\":\"\"}},\"colorscale\":{\"sequential\":[[0.0,\"#0d0887\"],[0.1111111111111111,\"#46039f\"],[0.2222222222222222,\"#7201a8\"],[0.3333333333333333,\"#9c179e\"],[0.4444444444444444,\"#bd3786\"],[0.5555555555555556,\"#d8576b\"],[0.6666666666666666,\"#ed7953\"],[0.7777777777777778,\"#fb9f3a\"],[0.8888888888888888,\"#fdca26\"],[1.0,\"#f0f921\"]],\"sequentialminus\":[[0.0,\"#0d0887\"],[0.1111111111111111,\"#46039f\"],[0.2222222222222222,\"#7201a8\"],[0.3333333333333333,\"#9c179e\"],[0.4444444444444444,\"#bd3786\"],[0.5555555555555556,\"#d8576b\"],[0.6666666666666666,\"#ed7953\"],[0.7777777777777778,\"#fb9f3a\"],[0.8888888888888888,\"#fdca26\"],[1.0,\"#f0f921\"]],\"diverging\":[[0,\"#8e0152\"],[0.1,\"#c51b7d\"],[0.2,\"#de77ae\"],[0.3,\"#f1b6da\"],[0.4,\"#fde0ef\"],[0.5,\"#f7f7f7\"],[0.6,\"#e6f5d0\"],[0.7,\"#b8e186\"],[0.8,\"#7fbc41\"],[0.9,\"#4d9221\"],[1,\"#276419\"]]},\"xaxis\":{\"gridcolor\":\"white\",\"linecolor\":\"white\",\"ticks\":\"\",\"title\":{\"standoff\":15},\"zerolinecolor\":\"white\",\"automargin\":true,\"zerolinewidth\":2},\"yaxis\":{\"gridcolor\":\"white\",\"linecolor\":\"white\",\"ticks\":\"\",\"title\":{\"standoff\":15},\"zerolinecolor\":\"white\",\"automargin\":true,\"zerolinewidth\":2},\"scene\":{\"xaxis\":{\"backgroundcolor\":\"#E5ECF6\",\"gridcolor\":\"white\",\"linecolor\":\"white\",\"showbackground\":true,\"ticks\":\"\",\"zerolinecolor\":\"white\",\"gridwidth\":2},\"yaxis\":{\"backgroundcolor\":\"#E5ECF6\",\"gridcolor\":\"white\",\"linecolor\":\"white\",\"showbackground\":true,\"ticks\":\"\",\"zerolinecolor\":\"white\",\"gridwidth\":2},\"zaxis\":{\"backgroundcolor\":\"#E5ECF6\",\"gridcolor\":\"white\",\"linecolor\":\"white\",\"showbackground\":true,\"ticks\":\"\",\"zerolinecolor\":\"white\",\"gridwidth\":2}},\"shapedefaults\":{\"line\":{\"color\":\"#2a3f5f\"}},\"annotationdefaults\":{\"arrowcolor\":\"#2a3f5f\",\"arrowhead\":0,\"arrowwidth\":1},\"geo\":{\"bgcolor\":\"white\",\"landcolor\":\"#E5ECF6\",\"subunitcolor\":\"white\",\"showland\":true,\"showlakes\":true,\"lakecolor\":\"white\"},\"title\":{\"x\":0.05},\"mapbox\":{\"style\":\"light\"}}},\"xaxis\":{\"anchor\":\"y\",\"domain\":[0.0,1.0],\"title\":{\"text\":\"Year\"}},\"yaxis\":{\"anchor\":\"x\",\"domain\":[0.0,1.0],\"title\":{\"text\":\"Salary Commitments\"}},\"legend\":{\"title\":{\"text\":\"Team\"},\"tracegroupgap\":0},\"title\":{\"text\":\"Preset Team Salary Commitments Over Time\"}},                        {\"responsive\": true}                    ).then(function(){\n",
       "                            \n",
       "var gd = document.getElementById('cc182855-d045-4244-b4d6-96448e1dd160');\n",
       "var x = new MutationObserver(function (mutations, observer) {{\n",
       "        var display = window.getComputedStyle(gd).display;\n",
       "        if (!display || display === 'none') {{\n",
       "            console.log([gd, 'removed!']);\n",
       "            Plotly.purge(gd);\n",
       "            observer.disconnect();\n",
       "        }}\n",
       "}});\n",
       "\n",
       "// Listen for the removal of the full notebook cells\n",
       "var notebookContainer = gd.closest('#notebook-container');\n",
       "if (notebookContainer) {{\n",
       "    x.observe(notebookContainer, {childList: true});\n",
       "}}\n",
       "\n",
       "// Listen for the clearing of the current output cell\n",
       "var outputEl = gd.closest('.output');\n",
       "if (outputEl) {{\n",
       "    x.observe(outputEl, {childList: true});\n",
       "}}\n",
       "\n",
       "                        })                };                });            </script>        </div>"
      ]
     },
     "metadata": {},
     "output_type": "display_data"
    }
   ],
   "source": [
    "fig = px.line(grouped, title=\"Present Team Salary Commitments Over Time\", x= grouped.index, y=grouped.columns[:], labels={'index': 'Year', 'value':'Salary Commitments', 'variable': 'Team'}, color_discrete_sequence=color_sequence)\n",
    "for n in range(12):\n",
    "    fig['data'][n]['line']['width']=1\n",
    "fig['data'][12]['line']['width']=3\n",
    "# Show plot \n",
    "fig.show()"
   ]
  },
  {
   "cell_type": "code",
   "execution_count": 96,
   "id": "2db752f2-b3c9-48fc-b7cd-88cbae877ba1",
   "metadata": {
    "tags": []
   },
   "outputs": [
    {
     "name": "stderr",
     "output_type": "stream",
     "text": [
      "/Library/Frameworks/Python.framework/Versions/3.11/lib/python3.11/site-packages/openpyxl/styles/stylesheet.py:226: UserWarning:\n",
      "\n",
      "Workbook contains no default style, apply openpyxl's default\n",
      "\n"
     ]
    }
   ],
   "source": [
    "def data_cleaning(df):\n",
    "    copy = df.copy()\n",
    "    copy.columns = copy.iloc[1, :]\n",
    "    copy = copy.drop([0, 1], axis = 0).reset_index(drop = True)\n",
    "    return copy.iloc[:len(copy)-5, :]\n",
    "    \n",
    "\n",
    "\n",
    "teams = [\"ATL\", \"CHI\", \"CON\", \"DAL\", \"IND\", \"LVA\", \"LAS\", \"MIN\", \"NYL\", \"PHO\", \"SEA\", \"WAS\"]\n",
    "\n",
    "xlxs_years = {}\n",
    "for year in np.arange(2014, 2022, 1):\n",
    "    xlxs_years[year] = pd.ExcelFile(\"historical-data/\" + str(year) + \".xlsx\")\n",
    "\n",
    "team_stats = pd.DataFrame()\n",
    "for team in teams:\n",
    "    data = []\n",
    "    for year in np.arange(2014, 2022, 1):\n",
    "        year_sheet = xlxs_years[year]\n",
    "        team_year_data_uncleaned = pd.read_excel(year_sheet, team)\n",
    "        team_year_data = data_cleaning(team_year_data_uncleaned)\n",
    "        data += [team_year_data[year]]\n",
    "    team_stats = pd.concat([team_stats, pd.DataFrame(pd.DataFrame(data).T.fillna(0).sum(), columns = [team])], axis = 1)\n",
    "    \n",
    "    pd.concat([hist_team_stats, pd.DataFrame(pd.DataFrame(data).T.fillna(0).sum(), columns=[full_team_names[team]])], axis=1)\n"
   ]
  },
  {
   "cell_type": "code",
   "execution_count": 97,
   "id": "7c50834a-f0b4-4315-9754-21ed2e274803",
   "metadata": {
    "tags": []
   },
   "outputs": [
    {
     "data": {
      "application/vnd.plotly.v1+json": {
       "config": {
        "plotlyServerURL": "https://plot.ly"
       },
       "data": [
        {
         "hovertemplate": "Team=ATL<br>Year=%{x}<br>Salary Commitments=%{y}<extra></extra>",
         "legendgroup": "ATL",
         "line": {
          "color": "#C8102E",
          "dash": "solid",
          "width": 1
         },
         "marker": {
          "symbol": "circle"
         },
         "mode": "lines",
         "name": "ATL",
         "orientation": "v",
         "showlegend": true,
         "type": "scatter",
         "x": [
          2014,
          2015,
          2016,
          2017,
          2018,
          2019,
          2020,
          2021
         ],
         "xaxis": "x",
         "y": [
          846591,
          797477,
          796126,
          938983,
          913820,
          989848,
          1204737,
          1339000
         ],
         "yaxis": "y"
        },
        {
         "hovertemplate": "Team=CHI<br>Year=%{x}<br>Salary Commitments=%{y}<extra></extra>",
         "legendgroup": "CHI",
         "line": {
          "color": "#418FDE",
          "dash": "solid",
          "width": 1
         },
         "marker": {
          "symbol": "circle"
         },
         "mode": "lines",
         "name": "CHI",
         "orientation": "v",
         "showlegend": true,
         "type": "scatter",
         "x": [
          2014,
          2015,
          2016,
          2017,
          2018,
          2019,
          2020,
          2021
         ],
         "xaxis": "x",
         "y": [
          852223,
          919300,
          889250,
          788291,
          870277,
          976409,
          1261801,
          1338778
         ],
         "yaxis": "y"
        },
        {
         "hovertemplate": "Team=CON<br>Year=%{x}<br>Salary Commitments=%{y}<extra></extra>",
         "legendgroup": "CON",
         "line": {
          "color": "#DC4405",
          "dash": "solid",
          "width": 1
         },
         "marker": {
          "symbol": "circle"
         },
         "mode": "lines",
         "name": "CON",
         "orientation": "v",
         "showlegend": true,
         "type": "scatter",
         "x": [
          2014,
          2015,
          2016,
          2017,
          2018,
          2019,
          2020,
          2021
         ],
         "xaxis": "x",
         "y": [
          810251,
          975484,
          902279,
          914221,
          929085,
          940076,
          1267483,
          1352115
         ],
         "yaxis": "y"
        },
        {
         "hovertemplate": "Team=DAL<br>Year=%{x}<br>Salary Commitments=%{y}<extra></extra>",
         "legendgroup": "DAL",
         "line": {
          "color": "#C4D600",
          "dash": "solid",
          "width": 1
         },
         "marker": {
          "symbol": "circle"
         },
         "mode": "lines",
         "name": "DAL",
         "orientation": "v",
         "showlegend": true,
         "type": "scatter",
         "x": [
          2014,
          2015,
          2016,
          2017,
          2018,
          2019,
          2020,
          2021
         ],
         "xaxis": "x",
         "y": [
          829148,
          811581,
          850668,
          848852,
          950119,
          936592,
          1092200,
          1243559
         ],
         "yaxis": "y"
        },
        {
         "hovertemplate": "Team=IND<br>Year=%{x}<br>Salary Commitments=%{y}<extra></extra>",
         "legendgroup": "IND",
         "line": {
          "color": "#FFCD00",
          "dash": "solid",
          "width": 1
         },
         "marker": {
          "symbol": "circle"
         },
         "mode": "lines",
         "name": "IND",
         "orientation": "v",
         "showlegend": true,
         "type": "scatter",
         "x": [
          2014,
          2015,
          2016,
          2017,
          2018,
          2019,
          2020,
          2021
         ],
         "xaxis": "x",
         "y": [
          857331,
          865592,
          937787,
          924936,
          887601,
          908326,
          1079288,
          1277179
         ],
         "yaxis": "y"
        },
        {
         "hovertemplate": "Team=LVA<br>Year=%{x}<br>Salary Commitments=%{y}<extra></extra>",
         "legendgroup": "LVA",
         "line": {
          "color": "#85714D",
          "dash": "solid",
          "width": 1
         },
         "marker": {
          "symbol": "circle"
         },
         "mode": "lines",
         "name": "LVA",
         "orientation": "v",
         "showlegend": true,
         "type": "scatter",
         "x": [
          2014,
          2015,
          2016,
          2017,
          2018,
          2019,
          2020,
          2021
         ],
         "xaxis": "x",
         "y": [
          847403,
          897029,
          793048,
          798911,
          912421,
          993650,
          1283918,
          1345922
         ],
         "yaxis": "y"
        },
        {
         "hovertemplate": "Team=LAS<br>Year=%{x}<br>Salary Commitments=%{y}<extra></extra>",
         "legendgroup": "LAS",
         "line": {
          "color": "#702F8A",
          "dash": "solid",
          "width": 1
         },
         "marker": {
          "symbol": "circle"
         },
         "mode": "lines",
         "name": "LAS",
         "orientation": "v",
         "showlegend": true,
         "type": "scatter",
         "x": [
          2014,
          2015,
          2016,
          2017,
          2018,
          2019,
          2020,
          2021
         ],
         "xaxis": "x",
         "y": [
          904008,
          875056,
          937188,
          950625,
          938781,
          979946,
          1209250,
          1338518
         ],
         "yaxis": "y"
        },
        {
         "hovertemplate": "Team=MIN<br>Year=%{x}<br>Salary Commitments=%{y}<extra></extra>",
         "legendgroup": "MIN",
         "line": {
          "color": "#236192",
          "dash": "solid",
          "width": 1
         },
         "marker": {
          "symbol": "circle"
         },
         "mode": "lines",
         "name": "MIN",
         "orientation": "v",
         "showlegend": true,
         "type": "scatter",
         "x": [
          2014,
          2015,
          2016,
          2017,
          2018,
          2019,
          2020,
          2021
         ],
         "xaxis": "x",
         "y": [
          881019,
          887385,
          937482,
          956653,
          976003,
          959815,
          1158060,
          1346277
         ],
         "yaxis": "y"
        },
        {
         "hovertemplate": "Team=NYL<br>Year=%{x}<br>Salary Commitments=%{y}<extra></extra>",
         "legendgroup": "NYL",
         "line": {
          "color": "#6ECEB2",
          "dash": "solid",
          "width": 1
         },
         "marker": {
          "symbol": "circle"
         },
         "mode": "lines",
         "name": "NYL",
         "orientation": "v",
         "showlegend": true,
         "type": "scatter",
         "x": [
          2014,
          2015,
          2016,
          2017,
          2018,
          2019,
          2020,
          2021
         ],
         "xaxis": "x",
         "y": [
          857944,
          918206,
          936193,
          926136,
          976290,
          968998,
          1011640,
          1338063
         ],
         "yaxis": "y"
        },
        {
         "hovertemplate": "Team=PHO<br>Year=%{x}<br>Salary Commitments=%{y}<extra></extra>",
         "legendgroup": "PHO",
         "line": {
          "color": "#CB6015",
          "dash": "solid",
          "width": 1
         },
         "marker": {
          "symbol": "circle"
         },
         "mode": "lines",
         "name": "PHO",
         "orientation": "v",
         "showlegend": true,
         "type": "scatter",
         "x": [
          2014,
          2015,
          2016,
          2017,
          2018,
          2019,
          2020,
          2021
         ],
         "xaxis": "x",
         "y": [
          880856,
          983612,
          854647,
          955960,
          962650,
          1008350,
          1302130,
          1353144
         ],
         "yaxis": "y"
        },
        {
         "hovertemplate": "Team=SEA<br>Year=%{x}<br>Salary Commitments=%{y}<extra></extra>",
         "legendgroup": "SEA",
         "line": {
          "color": "#2C5234",
          "dash": "solid",
          "width": 1
         },
         "marker": {
          "symbol": "circle"
         },
         "mode": "lines",
         "name": "SEA",
         "orientation": "v",
         "showlegend": true,
         "type": "scatter",
         "x": [
          2014,
          2015,
          2016,
          2017,
          2018,
          2019,
          2020,
          2021
         ],
         "xaxis": "x",
         "y": [
          899265,
          838631,
          868676,
          818032,
          932042,
          969941,
          1296300,
          1336367
         ],
         "yaxis": "y"
        },
        {
         "hovertemplate": "Team=WAS<br>Year=%{x}<br>Salary Commitments=%{y}<extra></extra>",
         "legendgroup": "WAS",
         "line": {
          "color": "#C8102E",
          "dash": "solid",
          "width": 1
         },
         "marker": {
          "symbol": "circle"
         },
         "mode": "lines",
         "name": "WAS",
         "orientation": "v",
         "showlegend": true,
         "type": "scatter",
         "x": [
          2014,
          2015,
          2016,
          2017,
          2018,
          2019,
          2020,
          2021
         ],
         "xaxis": "x",
         "y": [
          837442,
          844285,
          832058,
          931697,
          881051,
          968337,
          1272380,
          1278114
         ],
         "yaxis": "y"
        }
       ],
       "layout": {
        "autosize": true,
        "legend": {
         "title": {
          "text": "Team"
         },
         "tracegroupgap": 0
        },
        "template": {
         "data": {
          "bar": [
           {
            "error_x": {
             "color": "#2a3f5f"
            },
            "error_y": {
             "color": "#2a3f5f"
            },
            "marker": {
             "line": {
              "color": "#E5ECF6",
              "width": 0.5
             },
             "pattern": {
              "fillmode": "overlay",
              "size": 10,
              "solidity": 0.2
             }
            },
            "type": "bar"
           }
          ],
          "barpolar": [
           {
            "marker": {
             "line": {
              "color": "#E5ECF6",
              "width": 0.5
             },
             "pattern": {
              "fillmode": "overlay",
              "size": 10,
              "solidity": 0.2
             }
            },
            "type": "barpolar"
           }
          ],
          "carpet": [
           {
            "aaxis": {
             "endlinecolor": "#2a3f5f",
             "gridcolor": "white",
             "linecolor": "white",
             "minorgridcolor": "white",
             "startlinecolor": "#2a3f5f"
            },
            "baxis": {
             "endlinecolor": "#2a3f5f",
             "gridcolor": "white",
             "linecolor": "white",
             "minorgridcolor": "white",
             "startlinecolor": "#2a3f5f"
            },
            "type": "carpet"
           }
          ],
          "choropleth": [
           {
            "colorbar": {
             "outlinewidth": 0,
             "ticks": ""
            },
            "type": "choropleth"
           }
          ],
          "contour": [
           {
            "colorbar": {
             "outlinewidth": 0,
             "ticks": ""
            },
            "colorscale": [
             [
              0,
              "#0d0887"
             ],
             [
              0.1111111111111111,
              "#46039f"
             ],
             [
              0.2222222222222222,
              "#7201a8"
             ],
             [
              0.3333333333333333,
              "#9c179e"
             ],
             [
              0.4444444444444444,
              "#bd3786"
             ],
             [
              0.5555555555555556,
              "#d8576b"
             ],
             [
              0.6666666666666666,
              "#ed7953"
             ],
             [
              0.7777777777777778,
              "#fb9f3a"
             ],
             [
              0.8888888888888888,
              "#fdca26"
             ],
             [
              1,
              "#f0f921"
             ]
            ],
            "type": "contour"
           }
          ],
          "contourcarpet": [
           {
            "colorbar": {
             "outlinewidth": 0,
             "ticks": ""
            },
            "type": "contourcarpet"
           }
          ],
          "heatmap": [
           {
            "colorbar": {
             "outlinewidth": 0,
             "ticks": ""
            },
            "colorscale": [
             [
              0,
              "#0d0887"
             ],
             [
              0.1111111111111111,
              "#46039f"
             ],
             [
              0.2222222222222222,
              "#7201a8"
             ],
             [
              0.3333333333333333,
              "#9c179e"
             ],
             [
              0.4444444444444444,
              "#bd3786"
             ],
             [
              0.5555555555555556,
              "#d8576b"
             ],
             [
              0.6666666666666666,
              "#ed7953"
             ],
             [
              0.7777777777777778,
              "#fb9f3a"
             ],
             [
              0.8888888888888888,
              "#fdca26"
             ],
             [
              1,
              "#f0f921"
             ]
            ],
            "type": "heatmap"
           }
          ],
          "heatmapgl": [
           {
            "colorbar": {
             "outlinewidth": 0,
             "ticks": ""
            },
            "colorscale": [
             [
              0,
              "#0d0887"
             ],
             [
              0.1111111111111111,
              "#46039f"
             ],
             [
              0.2222222222222222,
              "#7201a8"
             ],
             [
              0.3333333333333333,
              "#9c179e"
             ],
             [
              0.4444444444444444,
              "#bd3786"
             ],
             [
              0.5555555555555556,
              "#d8576b"
             ],
             [
              0.6666666666666666,
              "#ed7953"
             ],
             [
              0.7777777777777778,
              "#fb9f3a"
             ],
             [
              0.8888888888888888,
              "#fdca26"
             ],
             [
              1,
              "#f0f921"
             ]
            ],
            "type": "heatmapgl"
           }
          ],
          "histogram": [
           {
            "marker": {
             "pattern": {
              "fillmode": "overlay",
              "size": 10,
              "solidity": 0.2
             }
            },
            "type": "histogram"
           }
          ],
          "histogram2d": [
           {
            "colorbar": {
             "outlinewidth": 0,
             "ticks": ""
            },
            "colorscale": [
             [
              0,
              "#0d0887"
             ],
             [
              0.1111111111111111,
              "#46039f"
             ],
             [
              0.2222222222222222,
              "#7201a8"
             ],
             [
              0.3333333333333333,
              "#9c179e"
             ],
             [
              0.4444444444444444,
              "#bd3786"
             ],
             [
              0.5555555555555556,
              "#d8576b"
             ],
             [
              0.6666666666666666,
              "#ed7953"
             ],
             [
              0.7777777777777778,
              "#fb9f3a"
             ],
             [
              0.8888888888888888,
              "#fdca26"
             ],
             [
              1,
              "#f0f921"
             ]
            ],
            "type": "histogram2d"
           }
          ],
          "histogram2dcontour": [
           {
            "colorbar": {
             "outlinewidth": 0,
             "ticks": ""
            },
            "colorscale": [
             [
              0,
              "#0d0887"
             ],
             [
              0.1111111111111111,
              "#46039f"
             ],
             [
              0.2222222222222222,
              "#7201a8"
             ],
             [
              0.3333333333333333,
              "#9c179e"
             ],
             [
              0.4444444444444444,
              "#bd3786"
             ],
             [
              0.5555555555555556,
              "#d8576b"
             ],
             [
              0.6666666666666666,
              "#ed7953"
             ],
             [
              0.7777777777777778,
              "#fb9f3a"
             ],
             [
              0.8888888888888888,
              "#fdca26"
             ],
             [
              1,
              "#f0f921"
             ]
            ],
            "type": "histogram2dcontour"
           }
          ],
          "mesh3d": [
           {
            "colorbar": {
             "outlinewidth": 0,
             "ticks": ""
            },
            "type": "mesh3d"
           }
          ],
          "parcoords": [
           {
            "line": {
             "colorbar": {
              "outlinewidth": 0,
              "ticks": ""
             }
            },
            "type": "parcoords"
           }
          ],
          "pie": [
           {
            "automargin": true,
            "type": "pie"
           }
          ],
          "scatter": [
           {
            "fillpattern": {
             "fillmode": "overlay",
             "size": 10,
             "solidity": 0.2
            },
            "type": "scatter"
           }
          ],
          "scatter3d": [
           {
            "line": {
             "colorbar": {
              "outlinewidth": 0,
              "ticks": ""
             }
            },
            "marker": {
             "colorbar": {
              "outlinewidth": 0,
              "ticks": ""
             }
            },
            "type": "scatter3d"
           }
          ],
          "scattercarpet": [
           {
            "marker": {
             "colorbar": {
              "outlinewidth": 0,
              "ticks": ""
             }
            },
            "type": "scattercarpet"
           }
          ],
          "scattergeo": [
           {
            "marker": {
             "colorbar": {
              "outlinewidth": 0,
              "ticks": ""
             }
            },
            "type": "scattergeo"
           }
          ],
          "scattergl": [
           {
            "marker": {
             "colorbar": {
              "outlinewidth": 0,
              "ticks": ""
             }
            },
            "type": "scattergl"
           }
          ],
          "scattermapbox": [
           {
            "marker": {
             "colorbar": {
              "outlinewidth": 0,
              "ticks": ""
             }
            },
            "type": "scattermapbox"
           }
          ],
          "scatterpolar": [
           {
            "marker": {
             "colorbar": {
              "outlinewidth": 0,
              "ticks": ""
             }
            },
            "type": "scatterpolar"
           }
          ],
          "scatterpolargl": [
           {
            "marker": {
             "colorbar": {
              "outlinewidth": 0,
              "ticks": ""
             }
            },
            "type": "scatterpolargl"
           }
          ],
          "scatterternary": [
           {
            "marker": {
             "colorbar": {
              "outlinewidth": 0,
              "ticks": ""
             }
            },
            "type": "scatterternary"
           }
          ],
          "surface": [
           {
            "colorbar": {
             "outlinewidth": 0,
             "ticks": ""
            },
            "colorscale": [
             [
              0,
              "#0d0887"
             ],
             [
              0.1111111111111111,
              "#46039f"
             ],
             [
              0.2222222222222222,
              "#7201a8"
             ],
             [
              0.3333333333333333,
              "#9c179e"
             ],
             [
              0.4444444444444444,
              "#bd3786"
             ],
             [
              0.5555555555555556,
              "#d8576b"
             ],
             [
              0.6666666666666666,
              "#ed7953"
             ],
             [
              0.7777777777777778,
              "#fb9f3a"
             ],
             [
              0.8888888888888888,
              "#fdca26"
             ],
             [
              1,
              "#f0f921"
             ]
            ],
            "type": "surface"
           }
          ],
          "table": [
           {
            "cells": {
             "fill": {
              "color": "#EBF0F8"
             },
             "line": {
              "color": "white"
             }
            },
            "header": {
             "fill": {
              "color": "#C8D4E3"
             },
             "line": {
              "color": "white"
             }
            },
            "type": "table"
           }
          ]
         },
         "layout": {
          "annotationdefaults": {
           "arrowcolor": "#2a3f5f",
           "arrowhead": 0,
           "arrowwidth": 1
          },
          "autotypenumbers": "strict",
          "coloraxis": {
           "colorbar": {
            "outlinewidth": 0,
            "ticks": ""
           }
          },
          "colorscale": {
           "diverging": [
            [
             0,
             "#8e0152"
            ],
            [
             0.1,
             "#c51b7d"
            ],
            [
             0.2,
             "#de77ae"
            ],
            [
             0.3,
             "#f1b6da"
            ],
            [
             0.4,
             "#fde0ef"
            ],
            [
             0.5,
             "#f7f7f7"
            ],
            [
             0.6,
             "#e6f5d0"
            ],
            [
             0.7,
             "#b8e186"
            ],
            [
             0.8,
             "#7fbc41"
            ],
            [
             0.9,
             "#4d9221"
            ],
            [
             1,
             "#276419"
            ]
           ],
           "sequential": [
            [
             0,
             "#0d0887"
            ],
            [
             0.1111111111111111,
             "#46039f"
            ],
            [
             0.2222222222222222,
             "#7201a8"
            ],
            [
             0.3333333333333333,
             "#9c179e"
            ],
            [
             0.4444444444444444,
             "#bd3786"
            ],
            [
             0.5555555555555556,
             "#d8576b"
            ],
            [
             0.6666666666666666,
             "#ed7953"
            ],
            [
             0.7777777777777778,
             "#fb9f3a"
            ],
            [
             0.8888888888888888,
             "#fdca26"
            ],
            [
             1,
             "#f0f921"
            ]
           ],
           "sequentialminus": [
            [
             0,
             "#0d0887"
            ],
            [
             0.1111111111111111,
             "#46039f"
            ],
            [
             0.2222222222222222,
             "#7201a8"
            ],
            [
             0.3333333333333333,
             "#9c179e"
            ],
            [
             0.4444444444444444,
             "#bd3786"
            ],
            [
             0.5555555555555556,
             "#d8576b"
            ],
            [
             0.6666666666666666,
             "#ed7953"
            ],
            [
             0.7777777777777778,
             "#fb9f3a"
            ],
            [
             0.8888888888888888,
             "#fdca26"
            ],
            [
             1,
             "#f0f921"
            ]
           ]
          },
          "colorway": [
           "#636efa",
           "#EF553B",
           "#00cc96",
           "#ab63fa",
           "#FFA15A",
           "#19d3f3",
           "#FF6692",
           "#B6E880",
           "#FF97FF",
           "#FECB52"
          ],
          "font": {
           "color": "#2a3f5f"
          },
          "geo": {
           "bgcolor": "white",
           "lakecolor": "white",
           "landcolor": "#E5ECF6",
           "showlakes": true,
           "showland": true,
           "subunitcolor": "white"
          },
          "hoverlabel": {
           "align": "left"
          },
          "hovermode": "closest",
          "mapbox": {
           "style": "light"
          },
          "paper_bgcolor": "white",
          "plot_bgcolor": "#E5ECF6",
          "polar": {
           "angularaxis": {
            "gridcolor": "white",
            "linecolor": "white",
            "ticks": ""
           },
           "bgcolor": "#E5ECF6",
           "radialaxis": {
            "gridcolor": "white",
            "linecolor": "white",
            "ticks": ""
           }
          },
          "scene": {
           "xaxis": {
            "backgroundcolor": "#E5ECF6",
            "gridcolor": "white",
            "gridwidth": 2,
            "linecolor": "white",
            "showbackground": true,
            "ticks": "",
            "zerolinecolor": "white"
           },
           "yaxis": {
            "backgroundcolor": "#E5ECF6",
            "gridcolor": "white",
            "gridwidth": 2,
            "linecolor": "white",
            "showbackground": true,
            "ticks": "",
            "zerolinecolor": "white"
           },
           "zaxis": {
            "backgroundcolor": "#E5ECF6",
            "gridcolor": "white",
            "gridwidth": 2,
            "linecolor": "white",
            "showbackground": true,
            "ticks": "",
            "zerolinecolor": "white"
           }
          },
          "shapedefaults": {
           "line": {
            "color": "#2a3f5f"
           }
          },
          "ternary": {
           "aaxis": {
            "gridcolor": "white",
            "linecolor": "white",
            "ticks": ""
           },
           "baxis": {
            "gridcolor": "white",
            "linecolor": "white",
            "ticks": ""
           },
           "bgcolor": "#E5ECF6",
           "caxis": {
            "gridcolor": "white",
            "linecolor": "white",
            "ticks": ""
           }
          },
          "title": {
           "x": 0.05
          },
          "xaxis": {
           "automargin": true,
           "gridcolor": "white",
           "linecolor": "white",
           "ticks": "",
           "title": {
            "standoff": 15
           },
           "zerolinecolor": "white",
           "zerolinewidth": 2
          },
          "yaxis": {
           "automargin": true,
           "gridcolor": "white",
           "linecolor": "white",
           "ticks": "",
           "title": {
            "standoff": 15
           },
           "zerolinecolor": "white",
           "zerolinewidth": 2
          }
         }
        },
        "title": {
         "text": "Historical Team Salary Trends"
        },
        "xaxis": {
         "anchor": "y",
         "autorange": true,
         "domain": [
          0,
          1
         ],
         "range": [
          2014,
          2021
         ],
         "title": {
          "text": "Year"
         },
         "type": "linear"
        },
        "yaxis": {
         "anchor": "x",
         "autorange": true,
         "domain": [
          0,
          1
         ],
         "range": [
          756910.2777777778,
          1384524.7222222222
         ],
         "title": {
          "text": "Salary Commitments"
         },
         "type": "linear"
        }
       }
      },
      "image/png": "[encoded data removed]",
      "text/html": [
       "<div>                            <div id=\"445ce2d5-2f10-4c3f-a8ec-32bbf9f2fd50\" class=\"plotly-graph-div\" style=\"height:525px; width:100%;\"></div>            <script type=\"text/javascript\">                require([\"plotly\"], function(Plotly) {                    window.PLOTLYENV=window.PLOTLYENV || {};                                    if (document.getElementById(\"445ce2d5-2f10-4c3f-a8ec-32bbf9f2fd50\")) {                    Plotly.newPlot(                        \"445ce2d5-2f10-4c3f-a8ec-32bbf9f2fd50\",                        [{\"hovertemplate\":\"Team=ATL<br>Year=%{x}<br>Salary Commitments=%{y}<extra></extra>\",\"legendgroup\":\"ATL\",\"line\":{\"color\":\"#C8102E\",\"dash\":\"solid\",\"width\":1},\"marker\":{\"symbol\":\"circle\"},\"mode\":\"lines\",\"name\":\"ATL\",\"orientation\":\"v\",\"showlegend\":true,\"x\":[2014,2015,2016,2017,2018,2019,2020,2021],\"xaxis\":\"x\",\"y\":[846591.0,797477.0,796126.0,938983.0,913820.0,989848.0,1204737.0,1339000.0],\"yaxis\":\"y\",\"type\":\"scatter\"},{\"hovertemplate\":\"Team=CHI<br>Year=%{x}<br>Salary Commitments=%{y}<extra></extra>\",\"legendgroup\":\"CHI\",\"line\":{\"color\":\"#418FDE\",\"dash\":\"solid\",\"width\":1},\"marker\":{\"symbol\":\"circle\"},\"mode\":\"lines\",\"name\":\"CHI\",\"orientation\":\"v\",\"showlegend\":true,\"x\":[2014,2015,2016,2017,2018,2019,2020,2021],\"xaxis\":\"x\",\"y\":[852223.0,919300.0,889250.0,788291.0,870277.0,976409.0,1261801.0,1338778.0],\"yaxis\":\"y\",\"type\":\"scatter\"},{\"hovertemplate\":\"Team=CON<br>Year=%{x}<br>Salary Commitments=%{y}<extra></extra>\",\"legendgroup\":\"CON\",\"line\":{\"color\":\"#DC4405\",\"dash\":\"solid\",\"width\":1},\"marker\":{\"symbol\":\"circle\"},\"mode\":\"lines\",\"name\":\"CON\",\"orientation\":\"v\",\"showlegend\":true,\"x\":[2014,2015,2016,2017,2018,2019,2020,2021],\"xaxis\":\"x\",\"y\":[810251.0,975484.0,902279.0,914221.0,929085.0,940076.0,1267483.0,1352115.0],\"yaxis\":\"y\",\"type\":\"scatter\"},{\"hovertemplate\":\"Team=DAL<br>Year=%{x}<br>Salary Commitments=%{y}<extra></extra>\",\"legendgroup\":\"DAL\",\"line\":{\"color\":\"#C4D600\",\"dash\":\"solid\",\"width\":1},\"marker\":{\"symbol\":\"circle\"},\"mode\":\"lines\",\"name\":\"DAL\",\"orientation\":\"v\",\"showlegend\":true,\"x\":[2014,2015,2016,2017,2018,2019,2020,2021],\"xaxis\":\"x\",\"y\":[829148.0,811581.0,850668.0,848852.0,950119.0,936592.0,1092200.0,1243559.0],\"yaxis\":\"y\",\"type\":\"scatter\"},{\"hovertemplate\":\"Team=IND<br>Year=%{x}<br>Salary Commitments=%{y}<extra></extra>\",\"legendgroup\":\"IND\",\"line\":{\"color\":\"#FFCD00\",\"dash\":\"solid\",\"width\":1},\"marker\":{\"symbol\":\"circle\"},\"mode\":\"lines\",\"name\":\"IND\",\"orientation\":\"v\",\"showlegend\":true,\"x\":[2014,2015,2016,2017,2018,2019,2020,2021],\"xaxis\":\"x\",\"y\":[857331.0,865592.0,937787.0,924936.0,887601.0,908326.0,1079288.0,1277179.0],\"yaxis\":\"y\",\"type\":\"scatter\"},{\"hovertemplate\":\"Team=LVA<br>Year=%{x}<br>Salary Commitments=%{y}<extra></extra>\",\"legendgroup\":\"LVA\",\"line\":{\"color\":\"#85714D\",\"dash\":\"solid\",\"width\":1},\"marker\":{\"symbol\":\"circle\"},\"mode\":\"lines\",\"name\":\"LVA\",\"orientation\":\"v\",\"showlegend\":true,\"x\":[2014,2015,2016,2017,2018,2019,2020,2021],\"xaxis\":\"x\",\"y\":[847403.0,897029.0,793048.0,798911.0,912421.0,993650.0,1283918.0,1345922.0],\"yaxis\":\"y\",\"type\":\"scatter\"},{\"hovertemplate\":\"Team=LAS<br>Year=%{x}<br>Salary Commitments=%{y}<extra></extra>\",\"legendgroup\":\"LAS\",\"line\":{\"color\":\"#702F8A\",\"dash\":\"solid\",\"width\":1},\"marker\":{\"symbol\":\"circle\"},\"mode\":\"lines\",\"name\":\"LAS\",\"orientation\":\"v\",\"showlegend\":true,\"x\":[2014,2015,2016,2017,2018,2019,2020,2021],\"xaxis\":\"x\",\"y\":[904008.0,875056.0,937188.0,950625.0,938781.0,979946.0,1209250.0,1338518.0],\"yaxis\":\"y\",\"type\":\"scatter\"},{\"hovertemplate\":\"Team=MIN<br>Year=%{x}<br>Salary Commitments=%{y}<extra></extra>\",\"legendgroup\":\"MIN\",\"line\":{\"color\":\"#236192\",\"dash\":\"solid\",\"width\":1},\"marker\":{\"symbol\":\"circle\"},\"mode\":\"lines\",\"name\":\"MIN\",\"orientation\":\"v\",\"showlegend\":true,\"x\":[2014,2015,2016,2017,2018,2019,2020,2021],\"xaxis\":\"x\",\"y\":[881019.0,887385.0,937482.0,956653.0,976003.0,959815.0,1158060.0,1346277.0],\"yaxis\":\"y\",\"type\":\"scatter\"},{\"hovertemplate\":\"Team=NYL<br>Year=%{x}<br>Salary Commitments=%{y}<extra></extra>\",\"legendgroup\":\"NYL\",\"line\":{\"color\":\"#6ECEB2\",\"dash\":\"solid\",\"width\":1},\"marker\":{\"symbol\":\"circle\"},\"mode\":\"lines\",\"name\":\"NYL\",\"orientation\":\"v\",\"showlegend\":true,\"x\":[2014,2015,2016,2017,2018,2019,2020,2021],\"xaxis\":\"x\",\"y\":[857944.0,918206.0,936193.0,926136.0,976290.0,968998.0,1011640.0,1338063.0],\"yaxis\":\"y\",\"type\":\"scatter\"},{\"hovertemplate\":\"Team=PHO<br>Year=%{x}<br>Salary Commitments=%{y}<extra></extra>\",\"legendgroup\":\"PHO\",\"line\":{\"color\":\"#CB6015\",\"dash\":\"solid\",\"width\":1},\"marker\":{\"symbol\":\"circle\"},\"mode\":\"lines\",\"name\":\"PHO\",\"orientation\":\"v\",\"showlegend\":true,\"x\":[2014,2015,2016,2017,2018,2019,2020,2021],\"xaxis\":\"x\",\"y\":[880856.0,983612.0,854647.0,955960.0,962650.0,1008350.0,1302130.0,1353144.0],\"yaxis\":\"y\",\"type\":\"scatter\"},{\"hovertemplate\":\"Team=SEA<br>Year=%{x}<br>Salary Commitments=%{y}<extra></extra>\",\"legendgroup\":\"SEA\",\"line\":{\"color\":\"#2C5234\",\"dash\":\"solid\",\"width\":1},\"marker\":{\"symbol\":\"circle\"},\"mode\":\"lines\",\"name\":\"SEA\",\"orientation\":\"v\",\"showlegend\":true,\"x\":[2014,2015,2016,2017,2018,2019,2020,2021],\"xaxis\":\"x\",\"y\":[899265.0,838631.0,868676.0,818032.0,932042.0,969941.0,1296300.0,1336367.0],\"yaxis\":\"y\",\"type\":\"scatter\"},{\"hovertemplate\":\"Team=WAS<br>Year=%{x}<br>Salary Commitments=%{y}<extra></extra>\",\"legendgroup\":\"WAS\",\"line\":{\"color\":\"#C8102E\",\"dash\":\"solid\",\"width\":1},\"marker\":{\"symbol\":\"circle\"},\"mode\":\"lines\",\"name\":\"WAS\",\"orientation\":\"v\",\"showlegend\":true,\"x\":[2014,2015,2016,2017,2018,2019,2020,2021],\"xaxis\":\"x\",\"y\":[837442.0,844285.0,832058.0,931697.0,881051.0,968337.0,1272380.0,1278114.0],\"yaxis\":\"y\",\"type\":\"scatter\"}],                        {\"template\":{\"data\":{\"histogram2dcontour\":[{\"type\":\"histogram2dcontour\",\"colorbar\":{\"outlinewidth\":0,\"ticks\":\"\"},\"colorscale\":[[0.0,\"#0d0887\"],[0.1111111111111111,\"#46039f\"],[0.2222222222222222,\"#7201a8\"],[0.3333333333333333,\"#9c179e\"],[0.4444444444444444,\"#bd3786\"],[0.5555555555555556,\"#d8576b\"],[0.6666666666666666,\"#ed7953\"],[0.7777777777777778,\"#fb9f3a\"],[0.8888888888888888,\"#fdca26\"],[1.0,\"#f0f921\"]]}],\"choropleth\":[{\"type\":\"choropleth\",\"colorbar\":{\"outlinewidth\":0,\"ticks\":\"\"}}],\"histogram2d\":[{\"type\":\"histogram2d\",\"colorbar\":{\"outlinewidth\":0,\"ticks\":\"\"},\"colorscale\":[[0.0,\"#0d0887\"],[0.1111111111111111,\"#46039f\"],[0.2222222222222222,\"#7201a8\"],[0.3333333333333333,\"#9c179e\"],[0.4444444444444444,\"#bd3786\"],[0.5555555555555556,\"#d8576b\"],[0.6666666666666666,\"#ed7953\"],[0.7777777777777778,\"#fb9f3a\"],[0.8888888888888888,\"#fdca26\"],[1.0,\"#f0f921\"]]}],\"heatmap\":[{\"type\":\"heatmap\",\"colorbar\":{\"outlinewidth\":0,\"ticks\":\"\"},\"colorscale\":[[0.0,\"#0d0887\"],[0.1111111111111111,\"#46039f\"],[0.2222222222222222,\"#7201a8\"],[0.3333333333333333,\"#9c179e\"],[0.4444444444444444,\"#bd3786\"],[0.5555555555555556,\"#d8576b\"],[0.6666666666666666,\"#ed7953\"],[0.7777777777777778,\"#fb9f3a\"],[0.8888888888888888,\"#fdca26\"],[1.0,\"#f0f921\"]]}],\"heatmapgl\":[{\"type\":\"heatmapgl\",\"colorbar\":{\"outlinewidth\":0,\"ticks\":\"\"},\"colorscale\":[[0.0,\"#0d0887\"],[0.1111111111111111,\"#46039f\"],[0.2222222222222222,\"#7201a8\"],[0.3333333333333333,\"#9c179e\"],[0.4444444444444444,\"#bd3786\"],[0.5555555555555556,\"#d8576b\"],[0.6666666666666666,\"#ed7953\"],[0.7777777777777778,\"#fb9f3a\"],[0.8888888888888888,\"#fdca26\"],[1.0,\"#f0f921\"]]}],\"contourcarpet\":[{\"type\":\"contourcarpet\",\"colorbar\":{\"outlinewidth\":0,\"ticks\":\"\"}}],\"contour\":[{\"type\":\"contour\",\"colorbar\":{\"outlinewidth\":0,\"ticks\":\"\"},\"colorscale\":[[0.0,\"#0d0887\"],[0.1111111111111111,\"#46039f\"],[0.2222222222222222,\"#7201a8\"],[0.3333333333333333,\"#9c179e\"],[0.4444444444444444,\"#bd3786\"],[0.5555555555555556,\"#d8576b\"],[0.6666666666666666,\"#ed7953\"],[0.7777777777777778,\"#fb9f3a\"],[0.8888888888888888,\"#fdca26\"],[1.0,\"#f0f921\"]]}],\"surface\":[{\"type\":\"surface\",\"colorbar\":{\"outlinewidth\":0,\"ticks\":\"\"},\"colorscale\":[[0.0,\"#0d0887\"],[0.1111111111111111,\"#46039f\"],[0.2222222222222222,\"#7201a8\"],[0.3333333333333333,\"#9c179e\"],[0.4444444444444444,\"#bd3786\"],[0.5555555555555556,\"#d8576b\"],[0.6666666666666666,\"#ed7953\"],[0.7777777777777778,\"#fb9f3a\"],[0.8888888888888888,\"#fdca26\"],[1.0,\"#f0f921\"]]}],\"mesh3d\":[{\"type\":\"mesh3d\",\"colorbar\":{\"outlinewidth\":0,\"ticks\":\"\"}}],\"scatter\":[{\"fillpattern\":{\"fillmode\":\"overlay\",\"size\":10,\"solidity\":0.2},\"type\":\"scatter\"}],\"parcoords\":[{\"type\":\"parcoords\",\"line\":{\"colorbar\":{\"outlinewidth\":0,\"ticks\":\"\"}}}],\"scatterpolargl\":[{\"type\":\"scatterpolargl\",\"marker\":{\"colorbar\":{\"outlinewidth\":0,\"ticks\":\"\"}}}],\"bar\":[{\"error_x\":{\"color\":\"#2a3f5f\"},\"error_y\":{\"color\":\"#2a3f5f\"},\"marker\":{\"line\":{\"color\":\"#E5ECF6\",\"width\":0.5},\"pattern\":{\"fillmode\":\"overlay\",\"size\":10,\"solidity\":0.2}},\"type\":\"bar\"}],\"scattergeo\":[{\"type\":\"scattergeo\",\"marker\":{\"colorbar\":{\"outlinewidth\":0,\"ticks\":\"\"}}}],\"scatterpolar\":[{\"type\":\"scatterpolar\",\"marker\":{\"colorbar\":{\"outlinewidth\":0,\"ticks\":\"\"}}}],\"histogram\":[{\"marker\":{\"pattern\":{\"fillmode\":\"overlay\",\"size\":10,\"solidity\":0.2}},\"type\":\"histogram\"}],\"scattergl\":[{\"type\":\"scattergl\",\"marker\":{\"colorbar\":{\"outlinewidth\":0,\"ticks\":\"\"}}}],\"scatter3d\":[{\"type\":\"scatter3d\",\"line\":{\"colorbar\":{\"outlinewidth\":0,\"ticks\":\"\"}},\"marker\":{\"colorbar\":{\"outlinewidth\":0,\"ticks\":\"\"}}}],\"scattermapbox\":[{\"type\":\"scattermapbox\",\"marker\":{\"colorbar\":{\"outlinewidth\":0,\"ticks\":\"\"}}}],\"scatterternary\":[{\"type\":\"scatterternary\",\"marker\":{\"colorbar\":{\"outlinewidth\":0,\"ticks\":\"\"}}}],\"scattercarpet\":[{\"type\":\"scattercarpet\",\"marker\":{\"colorbar\":{\"outlinewidth\":0,\"ticks\":\"\"}}}],\"carpet\":[{\"aaxis\":{\"endlinecolor\":\"#2a3f5f\",\"gridcolor\":\"white\",\"linecolor\":\"white\",\"minorgridcolor\":\"white\",\"startlinecolor\":\"#2a3f5f\"},\"baxis\":{\"endlinecolor\":\"#2a3f5f\",\"gridcolor\":\"white\",\"linecolor\":\"white\",\"minorgridcolor\":\"white\",\"startlinecolor\":\"#2a3f5f\"},\"type\":\"carpet\"}],\"table\":[{\"cells\":{\"fill\":{\"color\":\"#EBF0F8\"},\"line\":{\"color\":\"white\"}},\"header\":{\"fill\":{\"color\":\"#C8D4E3\"},\"line\":{\"color\":\"white\"}},\"type\":\"table\"}],\"barpolar\":[{\"marker\":{\"line\":{\"color\":\"#E5ECF6\",\"width\":0.5},\"pattern\":{\"fillmode\":\"overlay\",\"size\":10,\"solidity\":0.2}},\"type\":\"barpolar\"}],\"pie\":[{\"automargin\":true,\"type\":\"pie\"}]},\"layout\":{\"autotypenumbers\":\"strict\",\"colorway\":[\"#636efa\",\"#EF553B\",\"#00cc96\",\"#ab63fa\",\"#FFA15A\",\"#19d3f3\",\"#FF6692\",\"#B6E880\",\"#FF97FF\",\"#FECB52\"],\"font\":{\"color\":\"#2a3f5f\"},\"hovermode\":\"closest\",\"hoverlabel\":{\"align\":\"left\"},\"paper_bgcolor\":\"white\",\"plot_bgcolor\":\"#E5ECF6\",\"polar\":{\"bgcolor\":\"#E5ECF6\",\"angularaxis\":{\"gridcolor\":\"white\",\"linecolor\":\"white\",\"ticks\":\"\"},\"radialaxis\":{\"gridcolor\":\"white\",\"linecolor\":\"white\",\"ticks\":\"\"}},\"ternary\":{\"bgcolor\":\"#E5ECF6\",\"aaxis\":{\"gridcolor\":\"white\",\"linecolor\":\"white\",\"ticks\":\"\"},\"baxis\":{\"gridcolor\":\"white\",\"linecolor\":\"white\",\"ticks\":\"\"},\"caxis\":{\"gridcolor\":\"white\",\"linecolor\":\"white\",\"ticks\":\"\"}},\"coloraxis\":{\"colorbar\":{\"outlinewidth\":0,\"ticks\":\"\"}},\"colorscale\":{\"sequential\":[[0.0,\"#0d0887\"],[0.1111111111111111,\"#46039f\"],[0.2222222222222222,\"#7201a8\"],[0.3333333333333333,\"#9c179e\"],[0.4444444444444444,\"#bd3786\"],[0.5555555555555556,\"#d8576b\"],[0.6666666666666666,\"#ed7953\"],[0.7777777777777778,\"#fb9f3a\"],[0.8888888888888888,\"#fdca26\"],[1.0,\"#f0f921\"]],\"sequentialminus\":[[0.0,\"#0d0887\"],[0.1111111111111111,\"#46039f\"],[0.2222222222222222,\"#7201a8\"],[0.3333333333333333,\"#9c179e\"],[0.4444444444444444,\"#bd3786\"],[0.5555555555555556,\"#d8576b\"],[0.6666666666666666,\"#ed7953\"],[0.7777777777777778,\"#fb9f3a\"],[0.8888888888888888,\"#fdca26\"],[1.0,\"#f0f921\"]],\"diverging\":[[0,\"#8e0152\"],[0.1,\"#c51b7d\"],[0.2,\"#de77ae\"],[0.3,\"#f1b6da\"],[0.4,\"#fde0ef\"],[0.5,\"#f7f7f7\"],[0.6,\"#e6f5d0\"],[0.7,\"#b8e186\"],[0.8,\"#7fbc41\"],[0.9,\"#4d9221\"],[1,\"#276419\"]]},\"xaxis\":{\"gridcolor\":\"white\",\"linecolor\":\"white\",\"ticks\":\"\",\"title\":{\"standoff\":15},\"zerolinecolor\":\"white\",\"automargin\":true,\"zerolinewidth\":2},\"yaxis\":{\"gridcolor\":\"white\",\"linecolor\":\"white\",\"ticks\":\"\",\"title\":{\"standoff\":15},\"zerolinecolor\":\"white\",\"automargin\":true,\"zerolinewidth\":2},\"scene\":{\"xaxis\":{\"backgroundcolor\":\"#E5ECF6\",\"gridcolor\":\"white\",\"linecolor\":\"white\",\"showbackground\":true,\"ticks\":\"\",\"zerolinecolor\":\"white\",\"gridwidth\":2},\"yaxis\":{\"backgroundcolor\":\"#E5ECF6\",\"gridcolor\":\"white\",\"linecolor\":\"white\",\"showbackground\":true,\"ticks\":\"\",\"zerolinecolor\":\"white\",\"gridwidth\":2},\"zaxis\":{\"backgroundcolor\":\"#E5ECF6\",\"gridcolor\":\"white\",\"linecolor\":\"white\",\"showbackground\":true,\"ticks\":\"\",\"zerolinecolor\":\"white\",\"gridwidth\":2}},\"shapedefaults\":{\"line\":{\"color\":\"#2a3f5f\"}},\"annotationdefaults\":{\"arrowcolor\":\"#2a3f5f\",\"arrowhead\":0,\"arrowwidth\":1},\"geo\":{\"bgcolor\":\"white\",\"landcolor\":\"#E5ECF6\",\"subunitcolor\":\"white\",\"showland\":true,\"showlakes\":true,\"lakecolor\":\"white\"},\"title\":{\"x\":0.05},\"mapbox\":{\"style\":\"light\"}}},\"xaxis\":{\"anchor\":\"y\",\"domain\":[0.0,1.0],\"title\":{\"text\":\"Year\"}},\"yaxis\":{\"anchor\":\"x\",\"domain\":[0.0,1.0],\"title\":{\"text\":\"Salary Commitments\"}},\"legend\":{\"title\":{\"text\":\"Team\"},\"tracegroupgap\":0},\"title\":{\"text\":\"Historical Team Salary Trends\"}},                        {\"responsive\": true}                    ).then(function(){\n",
       "                            \n",
       "var gd = document.getElementById('445ce2d5-2f10-4c3f-a8ec-32bbf9f2fd50');\n",
       "var x = new MutationObserver(function (mutations, observer) {{\n",
       "        var display = window.getComputedStyle(gd).display;\n",
       "        if (!display || display === 'none') {{\n",
       "            console.log([gd, 'removed!']);\n",
       "            Plotly.purge(gd);\n",
       "            observer.disconnect();\n",
       "        }}\n",
       "}});\n",
       "\n",
       "// Listen for the removal of the full notebook cells\n",
       "var notebookContainer = gd.closest('#notebook-container');\n",
       "if (notebookContainer) {{\n",
       "    x.observe(notebookContainer, {childList: true});\n",
       "}}\n",
       "\n",
       "// Listen for the clearing of the current output cell\n",
       "var outputEl = gd.closest('.output');\n",
       "if (outputEl) {{\n",
       "    x.observe(outputEl, {childList: true});\n",
       "}}\n",
       "\n",
       "                        })                };                });            </script>        </div>"
      ]
     },
     "metadata": {},
     "output_type": "display_data"
    }
   ],
   "source": [
    "fig = px.line(team_stats, title=\"Historical Team Salary Trends\", x= team_stats.index, y=team_stats.columns[:], labels={'index': 'Year', 'value':'Salary Commitments', 'variable': 'Team'}, color_discrete_sequence=color_sequence)\n",
    "for n in range(12):\n",
    "    fig['data'][n]['line']['width']=1\n",
    "# Show plot \n",
    "fig.show()"
   ]
  }
 ],
 "metadata": {
  "kernelspec": {
   "display_name": "Python 3 (ipykernel)",
   "language": "python",
   "name": "python3"
  },
  "language_info": {
   "codemirror_mode": {
    "name": "ipython",
    "version": 3
   },
   "file_extension": ".py",
   "mimetype": "text/x-python",
   "name": "python",
   "nbconvert_exporter": "python",
   "pygments_lexer": "ipython3",
   "version": "3.11.2"
  }
 },
 "nbformat": 4,
 "nbformat_minor": 5
}
